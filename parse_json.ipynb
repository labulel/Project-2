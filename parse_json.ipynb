{
 "metadata": {
  "language_info": {
   "codemirror_mode": {
    "name": "ipython",
    "version": 3
   },
   "file_extension": ".py",
   "mimetype": "text/x-python",
   "name": "python",
   "nbconvert_exporter": "python",
   "pygments_lexer": "ipython3",
   "version": "3.7.9-final"
  },
  "orig_nbformat": 2,
  "kernelspec": {
   "name": "Python 3.7.9 64-bit ('data-bootcamp': conda)",
   "display_name": "Python 3.7.9 64-bit ('data-bootcamp': conda)",
   "metadata": {
    "interpreter": {
     "hash": "b3a78d13c8ddcd2f71b29e209561e9aaf5c95a485786f1a0d858e1acfa0f067e"
    }
   }
  }
 },
 "nbformat": 4,
 "nbformat_minor": 2,
 "cells": [
  {
   "cell_type": "code",
   "execution_count": 3,
   "metadata": {},
   "outputs": [],
   "source": [
    "import json"
   ]
  },
  {
   "cell_type": "code",
   "execution_count": 1,
   "metadata": {},
   "outputs": [],
   "source": [
    "with open('gz_2010_us_040_00_20m .json', 'r') as f:\n",
    "    raw_data = f.read()"
   ]
  },
  {
   "cell_type": "code",
   "execution_count": 4,
   "metadata": {},
   "outputs": [],
   "source": [
    "data = json.loads(raw_data)"
   ]
  },
  {
   "cell_type": "code",
   "execution_count": 9,
   "metadata": {},
   "outputs": [],
   "source": [
    "temp_value = 400\n",
    "\n",
    "for state in data['features']:\n",
    "    state['properties'][f'temp-{date}'] = temp_value"
   ]
  },
  {
   "cell_type": "code",
   "execution_count": 11,
   "metadata": {},
   "outputs": [
    {
     "output_type": "stream",
     "name": "stdout",
     "text": [
      "{'GEO_ID': '0400000US04', 'STATE': '04', 'NAME': 'Arizona', 'LSAD': '', 'CENSUSAREA': 113594.084, 'temp': 400}\n{'GEO_ID': '0400000US05', 'STATE': '05', 'NAME': 'Arkansas', 'LSAD': '', 'CENSUSAREA': 52035.477, 'temp': 400}\n{'GEO_ID': '0400000US06', 'STATE': '06', 'NAME': 'California', 'LSAD': '', 'CENSUSAREA': 155779.22, 'temp': 400}\n{'GEO_ID': '0400000US08', 'STATE': '08', 'NAME': 'Colorado', 'LSAD': '', 'CENSUSAREA': 103641.888, 'temp': 400}\n{'GEO_ID': '0400000US09', 'STATE': '09', 'NAME': 'Connecticut', 'LSAD': '', 'CENSUSAREA': 4842.355, 'temp': 400}\n{'GEO_ID': '0400000US11', 'STATE': '11', 'NAME': 'District of Columbia', 'LSAD': '', 'CENSUSAREA': 61.048, 'temp': 400}\n{'GEO_ID': '0400000US13', 'STATE': '13', 'NAME': 'Georgia', 'LSAD': '', 'CENSUSAREA': 57513.485, 'temp': 400}\n{'GEO_ID': '0400000US15', 'STATE': '15', 'NAME': 'Hawaii', 'LSAD': '', 'CENSUSAREA': 6422.628, 'temp': 400}\n{'GEO_ID': '0400000US17', 'STATE': '17', 'NAME': 'Illinois', 'LSAD': '', 'CENSUSAREA': 55518.93, 'temp': 400}\n{'GEO_ID': '0400000US18', 'STATE': '18', 'NAME': 'Indiana', 'LSAD': '', 'CENSUSAREA': 35826.109, 'temp': 400}\n{'GEO_ID': '0400000US22', 'STATE': '22', 'NAME': 'Louisiana', 'LSAD': '', 'CENSUSAREA': 43203.905, 'temp': 400}\n{'GEO_ID': '0400000US27', 'STATE': '27', 'NAME': 'Minnesota', 'LSAD': '', 'CENSUSAREA': 79626.743, 'temp': 400}\n{'GEO_ID': '0400000US28', 'STATE': '28', 'NAME': 'Mississippi', 'LSAD': '', 'CENSUSAREA': 46923.274, 'temp': 400}\n{'GEO_ID': '0400000US30', 'STATE': '30', 'NAME': 'Montana', 'LSAD': '', 'CENSUSAREA': 145545.801, 'temp': 400}\n{'GEO_ID': '0400000US35', 'STATE': '35', 'NAME': 'New Mexico', 'LSAD': '', 'CENSUSAREA': 121298.148, 'temp': 400}\n{'GEO_ID': '0400000US38', 'STATE': '38', 'NAME': 'North Dakota', 'LSAD': '', 'CENSUSAREA': 69000.798, 'temp': 400}\n{'GEO_ID': '0400000US40', 'STATE': '40', 'NAME': 'Oklahoma', 'LSAD': '', 'CENSUSAREA': 68594.921, 'temp': 400}\n{'GEO_ID': '0400000US42', 'STATE': '42', 'NAME': 'Pennsylvania', 'LSAD': '', 'CENSUSAREA': 44742.703, 'temp': 400}\n{'GEO_ID': '0400000US47', 'STATE': '47', 'NAME': 'Tennessee', 'LSAD': '', 'CENSUSAREA': 41234.896, 'temp': 400}\n{'GEO_ID': '0400000US51', 'STATE': '51', 'NAME': 'Virginia', 'LSAD': '', 'CENSUSAREA': 39490.086, 'temp': 400}\n{'GEO_ID': '0400000US72', 'STATE': '72', 'NAME': 'Puerto Rico', 'LSAD': '', 'CENSUSAREA': 3423.775, 'temp': 400}\n{'GEO_ID': '0400000US10', 'STATE': '10', 'NAME': 'Delaware', 'LSAD': '', 'CENSUSAREA': 1948.543, 'temp': 400}\n{'GEO_ID': '0400000US54', 'STATE': '54', 'NAME': 'West Virginia', 'LSAD': '', 'CENSUSAREA': 24038.21, 'temp': 400}\n{'GEO_ID': '0400000US55', 'STATE': '55', 'NAME': 'Wisconsin', 'LSAD': '', 'CENSUSAREA': 54157.805, 'temp': 400}\n{'GEO_ID': '0400000US56', 'STATE': '56', 'NAME': 'Wyoming', 'LSAD': '', 'CENSUSAREA': 97093.141, 'temp': 400}\n{'GEO_ID': '0400000US01', 'STATE': '01', 'NAME': 'Alabama', 'LSAD': '', 'CENSUSAREA': 50645.326, 'temp': 400}\n{'GEO_ID': '0400000US02', 'STATE': '02', 'NAME': 'Alaska', 'LSAD': '', 'CENSUSAREA': 570640.95, 'temp': 400}\n{'GEO_ID': '0400000US12', 'STATE': '12', 'NAME': 'Florida', 'LSAD': '', 'CENSUSAREA': 53624.759, 'temp': 400}\n{'GEO_ID': '0400000US16', 'STATE': '16', 'NAME': 'Idaho', 'LSAD': '', 'CENSUSAREA': 82643.117, 'temp': 400}\n{'GEO_ID': '0400000US20', 'STATE': '20', 'NAME': 'Kansas', 'LSAD': '', 'CENSUSAREA': 81758.717, 'temp': 400}\n{'GEO_ID': '0400000US24', 'STATE': '24', 'NAME': 'Maryland', 'LSAD': '', 'CENSUSAREA': 9707.241, 'temp': 400}\n{'GEO_ID': '0400000US34', 'STATE': '34', 'NAME': 'New Jersey', 'LSAD': '', 'CENSUSAREA': 7354.22, 'temp': 400}\n{'GEO_ID': '0400000US37', 'STATE': '37', 'NAME': 'North Carolina', 'LSAD': '', 'CENSUSAREA': 48617.905, 'temp': 400}\n{'GEO_ID': '0400000US45', 'STATE': '45', 'NAME': 'South Carolina', 'LSAD': '', 'CENSUSAREA': 30060.696, 'temp': 400}\n{'GEO_ID': '0400000US53', 'STATE': '53', 'NAME': 'Washington', 'LSAD': '', 'CENSUSAREA': 66455.521, 'temp': 400}\n{'GEO_ID': '0400000US50', 'STATE': '50', 'NAME': 'Vermont', 'LSAD': '', 'CENSUSAREA': 9216.657, 'temp': 400}\n{'GEO_ID': '0400000US49', 'STATE': '49', 'NAME': 'Utah', 'LSAD': '', 'CENSUSAREA': 82169.62, 'temp': 400}\n{'GEO_ID': '0400000US19', 'STATE': '19', 'NAME': 'Iowa', 'LSAD': '', 'CENSUSAREA': 55857.13, 'temp': 400}\n{'GEO_ID': '0400000US21', 'STATE': '21', 'NAME': 'Kentucky', 'LSAD': '', 'CENSUSAREA': 39486.338, 'temp': 400}\n{'GEO_ID': '0400000US23', 'STATE': '23', 'NAME': 'Maine', 'LSAD': '', 'CENSUSAREA': 30842.923, 'temp': 400}\n{'GEO_ID': '0400000US25', 'STATE': '25', 'NAME': 'Massachusetts', 'LSAD': '', 'CENSUSAREA': 7800.058, 'temp': 400}\n{'GEO_ID': '0400000US26', 'STATE': '26', 'NAME': 'Michigan', 'LSAD': '', 'CENSUSAREA': 56538.901, 'temp': 400}\n{'GEO_ID': '0400000US29', 'STATE': '29', 'NAME': 'Missouri', 'LSAD': '', 'CENSUSAREA': 68741.522, 'temp': 400}\n{'GEO_ID': '0400000US31', 'STATE': '31', 'NAME': 'Nebraska', 'LSAD': '', 'CENSUSAREA': 76824.171, 'temp': 400}\n{'GEO_ID': '0400000US32', 'STATE': '32', 'NAME': 'Nevada', 'LSAD': '', 'CENSUSAREA': 109781.18, 'temp': 400}\n{'GEO_ID': '0400000US33', 'STATE': '33', 'NAME': 'New Hampshire', 'LSAD': '', 'CENSUSAREA': 8952.651, 'temp': 400}\n{'GEO_ID': '0400000US36', 'STATE': '36', 'NAME': 'New York', 'LSAD': '', 'CENSUSAREA': 47126.399, 'temp': 400}\n{'GEO_ID': '0400000US39', 'STATE': '39', 'NAME': 'Ohio', 'LSAD': '', 'CENSUSAREA': 40860.694, 'temp': 400}\n{'GEO_ID': '0400000US41', 'STATE': '41', 'NAME': 'Oregon', 'LSAD': '', 'CENSUSAREA': 95988.013, 'temp': 400}\n{'GEO_ID': '0400000US44', 'STATE': '44', 'NAME': 'Rhode Island', 'LSAD': '', 'CENSUSAREA': 1033.814, 'temp': 400}\n{'GEO_ID': '0400000US46', 'STATE': '46', 'NAME': 'South Dakota', 'LSAD': '', 'CENSUSAREA': 75811.0, 'temp': 400}\n{'GEO_ID': '0400000US48', 'STATE': '48', 'NAME': 'Texas', 'LSAD': '', 'CENSUSAREA': 261231.711, 'temp': 400}\n"
     ]
    }
   ],
   "source": [
    "for state in data['features']:\n",
    "    print(state['properties'])"
   ]
  },
  {
   "cell_type": "code",
   "execution_count": 13,
   "metadata": {},
   "outputs": [],
   "source": [
    "with open(\"updated_json.geojson\", 'w') as f:\n",
    "    f.write(json.dumps(data))"
   ]
  },
  {
   "cell_type": "code",
   "execution_count": null,
   "metadata": {},
   "outputs": [],
   "source": [
    "2015-01-01  2015-02-01  2015-03-01\n",
    "\n",
    "update slider -> 2015-02-01\n",
    "\n",
    "update map, and pull property f\"temp-${<value_from_slider>}\""
   ]
  }
 ]
}