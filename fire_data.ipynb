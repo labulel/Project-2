{
 "cells": [
  {
   "cell_type": "markdown",
   "metadata": {},
   "source": [
    "# DO NOT RUN ALL"
   ]
  },
  {
   "cell_type": "markdown",
   "metadata": {},
   "source": [
    "### importing dependaices"
   ]
  },
  {
   "cell_type": "code",
   "execution_count": 184,
   "metadata": {},
   "outputs": [],
   "source": [
    "import pandas as pd\n",
    "import requests\n",
    "import json\n",
    "import numpy as np\n",
    "from pprint import pprint\n",
    "from datetime import datetime as dt"
   ]
  },
  {
   "cell_type": "markdown",
   "metadata": {},
   "source": [
    "### importing api key"
   ]
  },
  {
   "cell_type": "code",
   "execution_count": 185,
   "metadata": {},
   "outputs": [
    {
     "data": {
      "text/plain": [
       "datetime.datetime(2015, 1, 1, 0, 0)"
      ]
     },
     "execution_count": 185,
     "metadata": {},
     "output_type": "execute_result"
    }
   ],
   "source": [
    "dt(2015, 1, 1)"
   ]
  },
  {
   "cell_type": "markdown",
   "metadata": {},
   "source": [
    "### reading in data from csv\n",
    "#### filtered_fires.csv was filtered from origonal data in SQLiteStudio removing low/nominal confidence and non-vegetation fires"
   ]
  },
  {
   "cell_type": "code",
   "execution_count": 186,
   "metadata": {
    "scrolled": true
   },
   "outputs": [
    {
     "data": {
      "text/html": [
       "<div>\n",
       "<style scoped>\n",
       "    .dataframe tbody tr th:only-of-type {\n",
       "        vertical-align: middle;\n",
       "    }\n",
       "\n",
       "    .dataframe tbody tr th {\n",
       "        vertical-align: top;\n",
       "    }\n",
       "\n",
       "    .dataframe thead th {\n",
       "        text-align: right;\n",
       "    }\n",
       "</style>\n",
       "<table border=\"1\" class=\"dataframe\">\n",
       "  <thead>\n",
       "    <tr style=\"text-align: right;\">\n",
       "      <th></th>\n",
       "      <th>latitude</th>\n",
       "      <th>longitude</th>\n",
       "      <th>brightness</th>\n",
       "      <th>scan</th>\n",
       "      <th>track</th>\n",
       "      <th>acq_date</th>\n",
       "      <th>acq_time</th>\n",
       "      <th>satellite</th>\n",
       "      <th>instrument</th>\n",
       "      <th>confidence</th>\n",
       "      <th>version</th>\n",
       "      <th>bright_t31</th>\n",
       "      <th>frp</th>\n",
       "      <th>daynight</th>\n",
       "      <th>type</th>\n",
       "    </tr>\n",
       "  </thead>\n",
       "  <tbody>\n",
       "    <tr>\n",
       "      <th>0</th>\n",
       "      <td>31.4055</td>\n",
       "      <td>-85.7905</td>\n",
       "      <td>300.9</td>\n",
       "      <td>2.0</td>\n",
       "      <td>1.4</td>\n",
       "      <td>2015-10-01</td>\n",
       "      <td>420</td>\n",
       "      <td>Terra</td>\n",
       "      <td>MODIS</td>\n",
       "      <td>35</td>\n",
       "      <td>6.03</td>\n",
       "      <td>289.8</td>\n",
       "      <td>9.5</td>\n",
       "      <td>N</td>\n",
       "      <td>0</td>\n",
       "    </tr>\n",
       "    <tr>\n",
       "      <th>1</th>\n",
       "      <td>30.2032</td>\n",
       "      <td>-90.9995</td>\n",
       "      <td>304.1</td>\n",
       "      <td>1.0</td>\n",
       "      <td>1.0</td>\n",
       "      <td>2015-10-01</td>\n",
       "      <td>420</td>\n",
       "      <td>Terra</td>\n",
       "      <td>MODIS</td>\n",
       "      <td>58</td>\n",
       "      <td>6.03</td>\n",
       "      <td>292.8</td>\n",
       "      <td>4.8</td>\n",
       "      <td>N</td>\n",
       "      <td>2</td>\n",
       "    </tr>\n",
       "    <tr>\n",
       "      <th>2</th>\n",
       "      <td>30.4472</td>\n",
       "      <td>-94.7651</td>\n",
       "      <td>302.3</td>\n",
       "      <td>1.1</td>\n",
       "      <td>1.1</td>\n",
       "      <td>2015-10-01</td>\n",
       "      <td>420</td>\n",
       "      <td>Terra</td>\n",
       "      <td>MODIS</td>\n",
       "      <td>48</td>\n",
       "      <td>6.03</td>\n",
       "      <td>291.8</td>\n",
       "      <td>5.6</td>\n",
       "      <td>N</td>\n",
       "      <td>0</td>\n",
       "    </tr>\n",
       "    <tr>\n",
       "      <th>3</th>\n",
       "      <td>35.6459</td>\n",
       "      <td>-96.1828</td>\n",
       "      <td>304.0</td>\n",
       "      <td>1.1</td>\n",
       "      <td>1.1</td>\n",
       "      <td>2015-10-01</td>\n",
       "      <td>421</td>\n",
       "      <td>Terra</td>\n",
       "      <td>MODIS</td>\n",
       "      <td>58</td>\n",
       "      <td>6.03</td>\n",
       "      <td>286.8</td>\n",
       "      <td>8.8</td>\n",
       "      <td>N</td>\n",
       "      <td>0</td>\n",
       "    </tr>\n",
       "    <tr>\n",
       "      <th>4</th>\n",
       "      <td>35.8895</td>\n",
       "      <td>-89.7871</td>\n",
       "      <td>306.5</td>\n",
       "      <td>1.3</td>\n",
       "      <td>1.1</td>\n",
       "      <td>2015-10-01</td>\n",
       "      <td>421</td>\n",
       "      <td>Terra</td>\n",
       "      <td>MODIS</td>\n",
       "      <td>68</td>\n",
       "      <td>6.03</td>\n",
       "      <td>286.4</td>\n",
       "      <td>12.9</td>\n",
       "      <td>N</td>\n",
       "      <td>0</td>\n",
       "    </tr>\n",
       "    <tr>\n",
       "      <th>...</th>\n",
       "      <td>...</td>\n",
       "      <td>...</td>\n",
       "      <td>...</td>\n",
       "      <td>...</td>\n",
       "      <td>...</td>\n",
       "      <td>...</td>\n",
       "      <td>...</td>\n",
       "      <td>...</td>\n",
       "      <td>...</td>\n",
       "      <td>...</td>\n",
       "      <td>...</td>\n",
       "      <td>...</td>\n",
       "      <td>...</td>\n",
       "      <td>...</td>\n",
       "      <td>...</td>\n",
       "    </tr>\n",
       "    <tr>\n",
       "      <th>568002</th>\n",
       "      <td>39.5034</td>\n",
       "      <td>-107.8907</td>\n",
       "      <td>339.4</td>\n",
       "      <td>1.5</td>\n",
       "      <td>1.2</td>\n",
       "      <td>2020-06-30</td>\n",
       "      <td>2042</td>\n",
       "      <td>Aqua</td>\n",
       "      <td>MODIS</td>\n",
       "      <td>89</td>\n",
       "      <td>6.03</td>\n",
       "      <td>310.9</td>\n",
       "      <td>55.5</td>\n",
       "      <td>D</td>\n",
       "      <td>0</td>\n",
       "    </tr>\n",
       "    <tr>\n",
       "      <th>568003</th>\n",
       "      <td>39.4121</td>\n",
       "      <td>-112.2301</td>\n",
       "      <td>338.4</td>\n",
       "      <td>1.0</td>\n",
       "      <td>1.0</td>\n",
       "      <td>2020-06-30</td>\n",
       "      <td>2042</td>\n",
       "      <td>Aqua</td>\n",
       "      <td>MODIS</td>\n",
       "      <td>73</td>\n",
       "      <td>6.03</td>\n",
       "      <td>309.0</td>\n",
       "      <td>29.5</td>\n",
       "      <td>D</td>\n",
       "      <td>0</td>\n",
       "    </tr>\n",
       "    <tr>\n",
       "      <th>568004</th>\n",
       "      <td>39.4732</td>\n",
       "      <td>-112.1899</td>\n",
       "      <td>341.2</td>\n",
       "      <td>1.0</td>\n",
       "      <td>1.0</td>\n",
       "      <td>2020-06-30</td>\n",
       "      <td>2042</td>\n",
       "      <td>Aqua</td>\n",
       "      <td>MODIS</td>\n",
       "      <td>88</td>\n",
       "      <td>6.03</td>\n",
       "      <td>313.4</td>\n",
       "      <td>27.8</td>\n",
       "      <td>D</td>\n",
       "      <td>0</td>\n",
       "    </tr>\n",
       "    <tr>\n",
       "      <th>568005</th>\n",
       "      <td>39.1804</td>\n",
       "      <td>-121.6288</td>\n",
       "      <td>322.7</td>\n",
       "      <td>2.2</td>\n",
       "      <td>1.4</td>\n",
       "      <td>2020-06-30</td>\n",
       "      <td>2042</td>\n",
       "      <td>Aqua</td>\n",
       "      <td>MODIS</td>\n",
       "      <td>37</td>\n",
       "      <td>6.03</td>\n",
       "      <td>306.9</td>\n",
       "      <td>28.6</td>\n",
       "      <td>D</td>\n",
       "      <td>0</td>\n",
       "    </tr>\n",
       "    <tr>\n",
       "      <th>568006</th>\n",
       "      <td>21.4930</td>\n",
       "      <td>-158.1153</td>\n",
       "      <td>330.7</td>\n",
       "      <td>1.0</td>\n",
       "      <td>1.0</td>\n",
       "      <td>2020-06-30</td>\n",
       "      <td>2355</td>\n",
       "      <td>Aqua</td>\n",
       "      <td>MODIS</td>\n",
       "      <td>72</td>\n",
       "      <td>6.03</td>\n",
       "      <td>307.3</td>\n",
       "      <td>20.9</td>\n",
       "      <td>D</td>\n",
       "      <td>0</td>\n",
       "    </tr>\n",
       "  </tbody>\n",
       "</table>\n",
       "<p>568007 rows × 15 columns</p>\n",
       "</div>"
      ],
      "text/plain": [
       "        latitude  longitude  brightness  scan  track    acq_date  acq_time  \\\n",
       "0        31.4055   -85.7905       300.9   2.0    1.4  2015-10-01       420   \n",
       "1        30.2032   -90.9995       304.1   1.0    1.0  2015-10-01       420   \n",
       "2        30.4472   -94.7651       302.3   1.1    1.1  2015-10-01       420   \n",
       "3        35.6459   -96.1828       304.0   1.1    1.1  2015-10-01       421   \n",
       "4        35.8895   -89.7871       306.5   1.3    1.1  2015-10-01       421   \n",
       "...          ...        ...         ...   ...    ...         ...       ...   \n",
       "568002   39.5034  -107.8907       339.4   1.5    1.2  2020-06-30      2042   \n",
       "568003   39.4121  -112.2301       338.4   1.0    1.0  2020-06-30      2042   \n",
       "568004   39.4732  -112.1899       341.2   1.0    1.0  2020-06-30      2042   \n",
       "568005   39.1804  -121.6288       322.7   2.2    1.4  2020-06-30      2042   \n",
       "568006   21.4930  -158.1153       330.7   1.0    1.0  2020-06-30      2355   \n",
       "\n",
       "       satellite instrument  confidence  version  bright_t31   frp daynight  \\\n",
       "0          Terra      MODIS          35     6.03       289.8   9.5        N   \n",
       "1          Terra      MODIS          58     6.03       292.8   4.8        N   \n",
       "2          Terra      MODIS          48     6.03       291.8   5.6        N   \n",
       "3          Terra      MODIS          58     6.03       286.8   8.8        N   \n",
       "4          Terra      MODIS          68     6.03       286.4  12.9        N   \n",
       "...          ...        ...         ...      ...         ...   ...      ...   \n",
       "568002      Aqua      MODIS          89     6.03       310.9  55.5        D   \n",
       "568003      Aqua      MODIS          73     6.03       309.0  29.5        D   \n",
       "568004      Aqua      MODIS          88     6.03       313.4  27.8        D   \n",
       "568005      Aqua      MODIS          37     6.03       306.9  28.6        D   \n",
       "568006      Aqua      MODIS          72     6.03       307.3  20.9        D   \n",
       "\n",
       "        type  \n",
       "0          0  \n",
       "1          2  \n",
       "2          0  \n",
       "3          0  \n",
       "4          0  \n",
       "...      ...  \n",
       "568002     0  \n",
       "568003     0  \n",
       "568004     0  \n",
       "568005     0  \n",
       "568006     0  \n",
       "\n",
       "[568007 rows x 15 columns]"
      ]
     },
     "execution_count": 186,
     "metadata": {},
     "output_type": "execute_result"
    }
   ],
   "source": [
    "new_data = pd.read_csv (r'C:\\Users\\dlefo\\Project-2\\static\\data\\fire_archive_M6_160902.csv')\n",
    "\n",
    "new_data"
   ]
  },
  {
   "cell_type": "markdown",
   "metadata": {},
   "source": [
    "### Snippet from readme file explaining the column values"
   ]
  },
  {
   "cell_type": "markdown",
   "metadata": {},
   "source": [
    "https://earthdata.nasa.gov/earth-observation-data/near-real-time/firms/v1-vnp14imgt#ed-viirs-375m-attributes\n",
    "\n",
    "Latitude: Center of nominal 375 m fire pixel\n",
    "\n",
    "Longitude: Longitude\tCenter of nominal 375 m fire pixel\n",
    "\n",
    "Bright_ti4: Brightness temperature I-4\tVIIRS I-4 channel brightness temperature of the fire pixel measured in Kelvin.\n",
    "\n",
    "Scan: Along Scan pixel size\tThe algorithm produces approximately 375 m pixels at nadir. Scan and track reflect actual pixel size.\n",
    "\n",
    "Track: Along Track pixel size\tThe algorithm produces approximately 375 m pixels at nadir. Scan and track reflect actual pixel size.\n",
    "\n",
    "Acq_Date: Acquisition Date\tDate of VIIRS acquisition.\n",
    "Acq_Time: Acquisition Time\tTime of acquisition/overpass of the satellite (in UTC).\n",
    "Satellite: Satellite\tN= Suomi National Polar-orbiting Partnership (Suomi NPP)\n",
    "Confidence: Confidence\t\n",
    "This value is based on a collection of intermediate algorithm quantities used in the detection process. It is intended to help users gauge the quality of individual hotspot/fire pixels. Confidence values are set to low, nominal and high. Low confidence daytime fire pixels are typically associated with areas of sun glint and lower relative temperature anomaly (<15K) in the mid-infrared channel I4. Nominal confidence pixels are those free of potential sun glint contamination during the day and marked by strong (>15K) temperature anomaly in either day or nighttime data. High confidence fire pixels are associated with day or nighttime saturated pixels.\n",
    "\n",
    "Version: (Collection and source) Version identifies the collection (e.g. VIIRS Collection 1) and source of data processing: Near Real-Time (NRT suffix added to collection) or Standard Processing (collection only). \"1.0NRT\" - Collection 1 NRT processing. \"1.0\" - Collection 1 Standard processing.\n",
    "\n",
    "Bright_ti5:\tBrightness temperature I-5\tI-5 Channel brightness temperature of the fire pixel measured in Kelvin.\n",
    "\n",
    "FRP\t(Fire Radiative Power): FRP depicts the pixel-integrated fire radiative power in MW (megawatts). Given the unique spatial and spectral resolution of the data, the VIIRS 375 m fire detection algorithm was customized and tuned in order to optimize its response over small fires while balancing the occurrence of false alarms. Frequent saturation of the mid-infrared I4 channel (3.55-3.93 µm) driving the detection of active fires requires additional tests and procedures to avoid pixel classification errors. As a result, sub-pixel fire characterization (e.g., fire radiative power [FRP] retrieval) is only viable across small and/or low-intensity fires. Systematic FRP retrievals are based on a hybrid approach combining 375 and 750 m data. In fact, starting in 2015 the algorithm incorporated additional VIIRS channel M13 (3.973-4.128 µm) 750 m data in both aggregated and unaggregated format.\n",
    "\n",
    "Type:Inferred hot spot type\t\n",
    "    0 = presumed vegetation fire\n",
    "    1 = active volcano\n",
    "    2 = other static land source\n",
    "    3 = offshore detection (includes all detections over water)\n",
    "DayNight: Day or Night; D= Daytime fire, N= Nighttime fire"
   ]
  },
  {
   "cell_type": "markdown",
   "metadata": {},
   "source": [
    "### creating the dataframe from csv file with header names"
   ]
  },
  {
   "cell_type": "code",
   "execution_count": 187,
   "metadata": {},
   "outputs": [],
   "source": [
    "df = pd.DataFrame(new_data, columns = ['acq_date',\n",
    "                                    'latitude',\n",
    "                                   'longitude',\n",
    "                                   'brightness',\n",
    "                                   'scan',\n",
    "                                   'track',                                   \n",
    "                                   'acq_time',\n",
    "                                   'satellite',\n",
    "                                   'instrument',\n",
    "                                   'confidence',\n",
    "                                   'version',\n",
    "                                   'bright_t31',\n",
    "                                   'frp',\n",
    "                                   'daynight',\n",
    "                                   'type'])\n",
    "filtered_df = df.drop(['bright_t31',\n",
    "                       'brightness',\n",
    "                       'acq_time',\n",
    "                       'scan',\n",
    "                       'track',\n",
    "                       'satellite',\n",
    "                       'instrument',\n",
    "                       'confidence',\n",
    "                       'version',\n",
    "                       'bright_t31',\n",
    "                       'daynight',\n",
    "                       'type'], axis = 1)"
   ]
  },
  {
   "cell_type": "code",
   "execution_count": 188,
   "metadata": {},
   "outputs": [
    {
     "data": {
      "text/plain": [
       "<bound method NDFrame.head of           acq_date  latitude  longitude   frp\n",
       "0       2015-10-01   31.4055   -85.7905   9.5\n",
       "1       2015-10-01   30.2032   -90.9995   4.8\n",
       "2       2015-10-01   30.4472   -94.7651   5.6\n",
       "3       2015-10-01   35.6459   -96.1828   8.8\n",
       "4       2015-10-01   35.8895   -89.7871  12.9\n",
       "...            ...       ...        ...   ...\n",
       "568002  2020-06-30   39.5034  -107.8907  55.5\n",
       "568003  2020-06-30   39.4121  -112.2301  29.5\n",
       "568004  2020-06-30   39.4732  -112.1899  27.8\n",
       "568005  2020-06-30   39.1804  -121.6288  28.6\n",
       "568006  2020-06-30   21.4930  -158.1153  20.9\n",
       "\n",
       "[568007 rows x 4 columns]>"
      ]
     },
     "execution_count": 188,
     "metadata": {},
     "output_type": "execute_result"
    }
   ],
   "source": [
    "filtered_df.head"
   ]
  },
  {
   "cell_type": "markdown",
   "metadata": {},
   "source": [
    "### rounding the lat and lon to simplify and group dataframe"
   ]
  },
  {
   "cell_type": "code",
   "execution_count": 189,
   "metadata": {},
   "outputs": [],
   "source": [
    "rounded_df = filtered_df.round({'latitude':1, 'longitude':1})\n",
    "rounded_df2 = rounded_df.rename(columns={\"latitude\": \"round_lat\",\n",
    "                                         \"longitude\":\"round_lon\",\n",
    "                                         \"acq_date\":\"date\",\n",
    "                                         \"acq_time\":\"time\",\n",
    "                                         \"frp\":\"fire_pow\"})"
   ]
  },
  {
   "cell_type": "code",
   "execution_count": 190,
   "metadata": {},
   "outputs": [
    {
     "data": {
      "text/plain": [
       "<bound method NDFrame.head of               date  round_lat  round_lon  fire_pow\n",
       "0       2015-10-01       31.4      -85.8       9.5\n",
       "1       2015-10-01       30.2      -91.0       4.8\n",
       "2       2015-10-01       30.4      -94.8       5.6\n",
       "3       2015-10-01       35.6      -96.2       8.8\n",
       "4       2015-10-01       35.9      -89.8      12.9\n",
       "...            ...        ...        ...       ...\n",
       "568002  2020-06-30       39.5     -107.9      55.5\n",
       "568003  2020-06-30       39.4     -112.2      29.5\n",
       "568004  2020-06-30       39.5     -112.2      27.8\n",
       "568005  2020-06-30       39.2     -121.6      28.6\n",
       "568006  2020-06-30       21.5     -158.1      20.9\n",
       "\n",
       "[568007 rows x 4 columns]>"
      ]
     },
     "execution_count": 190,
     "metadata": {},
     "output_type": "execute_result"
    }
   ],
   "source": [
    "rounded_df2.head"
   ]
  },
  {
   "cell_type": "code",
   "execution_count": 191,
   "metadata": {},
   "outputs": [
    {
     "name": "stdout",
     "output_type": "stream",
     "text": [
      "              date  round_lat  round_lon  fire_pow    acq_date  latitude  \\\n",
      "0       2015-10-01       31.4      -85.8       9.5  2015-10-01   31.4055   \n",
      "1       2015-10-01       30.2      -91.0       4.8  2015-10-01   30.2032   \n",
      "2       2015-10-01       30.4      -94.8       5.6  2015-10-01   30.4472   \n",
      "3       2015-10-01       35.6      -96.2       8.8  2015-10-01   35.6459   \n",
      "4       2015-10-01       35.9      -89.8      12.9  2015-10-01   35.8895   \n",
      "...            ...        ...        ...       ...         ...       ...   \n",
      "568002  2020-06-30       39.5     -107.9      55.5  2020-06-30   39.5034   \n",
      "568003  2020-06-30       39.4     -112.2      29.5  2020-06-30   39.4121   \n",
      "568004  2020-06-30       39.5     -112.2      27.8  2020-06-30   39.4732   \n",
      "568005  2020-06-30       39.2     -121.6      28.6  2020-06-30   39.1804   \n",
      "568006  2020-06-30       21.5     -158.1      20.9  2020-06-30   21.4930   \n",
      "\n",
      "        longitude   frp  \n",
      "0        -85.7905   9.5  \n",
      "1        -90.9995   4.8  \n",
      "2        -94.7651   5.6  \n",
      "3        -96.1828   8.8  \n",
      "4        -89.7871  12.9  \n",
      "...           ...   ...  \n",
      "568002  -107.8907  55.5  \n",
      "568003  -112.2301  29.5  \n",
      "568004  -112.1899  27.8  \n",
      "568005  -121.6288  28.6  \n",
      "568006  -158.1153  20.9  \n",
      "\n",
      "[568007 rows x 8 columns]\n",
      "<class 'pandas.core.frame.DataFrame'>\n",
      "RangeIndex: 568007 entries, 0 to 568006\n",
      "Data columns (total 8 columns):\n",
      " #   Column     Non-Null Count   Dtype  \n",
      "---  ------     --------------   -----  \n",
      " 0   date       568007 non-null  object \n",
      " 1   round_lat  568007 non-null  float64\n",
      " 2   round_lon  568007 non-null  float64\n",
      " 3   fire_pow   568007 non-null  float64\n",
      " 4   acq_date   568007 non-null  object \n",
      " 5   latitude   568007 non-null  float64\n",
      " 6   longitude  568007 non-null  float64\n",
      " 7   frp        568007 non-null  float64\n",
      "dtypes: float64(6), object(2)\n",
      "memory usage: 34.7+ MB\n"
     ]
    }
   ],
   "source": [
    "result = pd.concat([rounded_df2, filtered_df], axis=1).reindex(rounded_df.index)\n",
    "\n",
    "print(result)\n",
    "result.info()"
   ]
  },
  {
   "cell_type": "code",
   "execution_count": 192,
   "metadata": {
    "scrolled": true
   },
   "outputs": [
    {
     "name": "stdout",
     "output_type": "stream",
     "text": [
      "              date  round_lat  round_lon   frp\n",
      "0       2015-10-01       31.4      -85.8   9.5\n",
      "1       2015-10-01       30.2      -91.0   4.8\n",
      "2       2015-10-01       30.4      -94.8   5.6\n",
      "3       2015-10-01       35.6      -96.2   8.8\n",
      "4       2015-10-01       35.9      -89.8  12.9\n",
      "...            ...        ...        ...   ...\n",
      "568002  2020-06-30       39.5     -107.9  55.5\n",
      "568003  2020-06-30       39.4     -112.2  29.5\n",
      "568004  2020-06-30       39.5     -112.2  27.8\n",
      "568005  2020-06-30       39.2     -121.6  28.6\n",
      "568006  2020-06-30       21.5     -158.1  20.9\n",
      "\n",
      "[568007 rows x 4 columns]\n"
     ]
    }
   ],
   "source": [
    "result2 = result.drop(['acq_date', 'fire_pow', 'latitude', 'longitude'],axis=1)\n",
    "\n",
    "print(result2)"
   ]
  },
  {
   "cell_type": "code",
   "execution_count": 193,
   "metadata": {},
   "outputs": [
    {
     "data": {
      "text/html": [
       "<div>\n",
       "<style scoped>\n",
       "    .dataframe tbody tr th:only-of-type {\n",
       "        vertical-align: middle;\n",
       "    }\n",
       "\n",
       "    .dataframe tbody tr th {\n",
       "        vertical-align: top;\n",
       "    }\n",
       "\n",
       "    .dataframe thead th {\n",
       "        text-align: right;\n",
       "    }\n",
       "</style>\n",
       "<table border=\"1\" class=\"dataframe\">\n",
       "  <thead>\n",
       "    <tr style=\"text-align: right;\">\n",
       "      <th></th>\n",
       "      <th>date</th>\n",
       "      <th>round_lat</th>\n",
       "      <th>round_lon</th>\n",
       "      <th>frp</th>\n",
       "      <th>year</th>\n",
       "      <th>month</th>\n",
       "    </tr>\n",
       "  </thead>\n",
       "  <tbody>\n",
       "    <tr>\n",
       "      <th>0</th>\n",
       "      <td>2015-10-01</td>\n",
       "      <td>31.4</td>\n",
       "      <td>-85.8</td>\n",
       "      <td>9.5</td>\n",
       "      <td>2015</td>\n",
       "      <td>10</td>\n",
       "    </tr>\n",
       "    <tr>\n",
       "      <th>1</th>\n",
       "      <td>2015-10-01</td>\n",
       "      <td>30.2</td>\n",
       "      <td>-91.0</td>\n",
       "      <td>4.8</td>\n",
       "      <td>2015</td>\n",
       "      <td>10</td>\n",
       "    </tr>\n",
       "    <tr>\n",
       "      <th>2</th>\n",
       "      <td>2015-10-01</td>\n",
       "      <td>30.4</td>\n",
       "      <td>-94.8</td>\n",
       "      <td>5.6</td>\n",
       "      <td>2015</td>\n",
       "      <td>10</td>\n",
       "    </tr>\n",
       "    <tr>\n",
       "      <th>3</th>\n",
       "      <td>2015-10-01</td>\n",
       "      <td>35.6</td>\n",
       "      <td>-96.2</td>\n",
       "      <td>8.8</td>\n",
       "      <td>2015</td>\n",
       "      <td>10</td>\n",
       "    </tr>\n",
       "    <tr>\n",
       "      <th>4</th>\n",
       "      <td>2015-10-01</td>\n",
       "      <td>35.9</td>\n",
       "      <td>-89.8</td>\n",
       "      <td>12.9</td>\n",
       "      <td>2015</td>\n",
       "      <td>10</td>\n",
       "    </tr>\n",
       "  </tbody>\n",
       "</table>\n",
       "</div>"
      ],
      "text/plain": [
       "        date  round_lat  round_lon   frp  year  month\n",
       "0 2015-10-01       31.4      -85.8   9.5  2015     10\n",
       "1 2015-10-01       30.2      -91.0   4.8  2015     10\n",
       "2 2015-10-01       30.4      -94.8   5.6  2015     10\n",
       "3 2015-10-01       35.6      -96.2   8.8  2015     10\n",
       "4 2015-10-01       35.9      -89.8  12.9  2015     10"
      ]
     },
     "execution_count": 193,
     "metadata": {},
     "output_type": "execute_result"
    }
   ],
   "source": [
    "result2['date'] =  pd.to_datetime(result2['date'])\n",
    "result2['year'] = result2.date.dt.year\n",
    "result2['month'] = result2.date.dt.month\n",
    "result2.head()"
   ]
  },
  {
   "cell_type": "code",
   "execution_count": 194,
   "metadata": {},
   "outputs": [
    {
     "data": {
      "text/html": [
       "<div>\n",
       "<style scoped>\n",
       "    .dataframe tbody tr th:only-of-type {\n",
       "        vertical-align: middle;\n",
       "    }\n",
       "\n",
       "    .dataframe tbody tr th {\n",
       "        vertical-align: top;\n",
       "    }\n",
       "\n",
       "    .dataframe thead th {\n",
       "        text-align: right;\n",
       "    }\n",
       "</style>\n",
       "<table border=\"1\" class=\"dataframe\">\n",
       "  <thead>\n",
       "    <tr style=\"text-align: right;\">\n",
       "      <th></th>\n",
       "      <th>date</th>\n",
       "      <th>round_lat</th>\n",
       "      <th>round_lon</th>\n",
       "      <th>frp</th>\n",
       "      <th>year</th>\n",
       "      <th>month</th>\n",
       "    </tr>\n",
       "  </thead>\n",
       "  <tbody>\n",
       "    <tr>\n",
       "      <th>0</th>\n",
       "      <td>2015-10-01</td>\n",
       "      <td>31.4</td>\n",
       "      <td>-85.8</td>\n",
       "      <td>9.5</td>\n",
       "      <td>2015</td>\n",
       "      <td>10</td>\n",
       "    </tr>\n",
       "    <tr>\n",
       "      <th>1</th>\n",
       "      <td>2015-10-01</td>\n",
       "      <td>30.2</td>\n",
       "      <td>-91.0</td>\n",
       "      <td>4.8</td>\n",
       "      <td>2015</td>\n",
       "      <td>10</td>\n",
       "    </tr>\n",
       "    <tr>\n",
       "      <th>2</th>\n",
       "      <td>2015-10-01</td>\n",
       "      <td>30.4</td>\n",
       "      <td>-94.8</td>\n",
       "      <td>5.6</td>\n",
       "      <td>2015</td>\n",
       "      <td>10</td>\n",
       "    </tr>\n",
       "    <tr>\n",
       "      <th>3</th>\n",
       "      <td>2015-10-01</td>\n",
       "      <td>35.6</td>\n",
       "      <td>-96.2</td>\n",
       "      <td>8.8</td>\n",
       "      <td>2015</td>\n",
       "      <td>10</td>\n",
       "    </tr>\n",
       "    <tr>\n",
       "      <th>4</th>\n",
       "      <td>2015-10-01</td>\n",
       "      <td>35.9</td>\n",
       "      <td>-89.8</td>\n",
       "      <td>12.9</td>\n",
       "      <td>2015</td>\n",
       "      <td>10</td>\n",
       "    </tr>\n",
       "  </tbody>\n",
       "</table>\n",
       "</div>"
      ],
      "text/plain": [
       "        date  round_lat  round_lon   frp  year  month\n",
       "0 2015-10-01       31.4      -85.8   9.5  2015     10\n",
       "1 2015-10-01       30.2      -91.0   4.8  2015     10\n",
       "2 2015-10-01       30.4      -94.8   5.6  2015     10\n",
       "3 2015-10-01       35.6      -96.2   8.8  2015     10\n",
       "4 2015-10-01       35.9      -89.8  12.9  2015     10"
      ]
     },
     "execution_count": 194,
     "metadata": {},
     "output_type": "execute_result"
    }
   ],
   "source": [
    "result2['date'] = result2.apply(lambda x: dt(x['year'], x['month'], 1), axis=1)\n",
    "result2['date'] =  pd.to_datetime(result2['date'])\n",
    "\n",
    "result2.head()"
   ]
  },
  {
   "cell_type": "code",
   "execution_count": 195,
   "metadata": {},
   "outputs": [
    {
     "data": {
      "text/html": [
       "<div>\n",
       "<style scoped>\n",
       "    .dataframe tbody tr th:only-of-type {\n",
       "        vertical-align: middle;\n",
       "    }\n",
       "\n",
       "    .dataframe tbody tr th {\n",
       "        vertical-align: top;\n",
       "    }\n",
       "\n",
       "    .dataframe thead th {\n",
       "        text-align: right;\n",
       "    }\n",
       "</style>\n",
       "<table border=\"1\" class=\"dataframe\">\n",
       "  <thead>\n",
       "    <tr style=\"text-align: right;\">\n",
       "      <th></th>\n",
       "      <th>date</th>\n",
       "      <th>round_lat</th>\n",
       "      <th>round_lon</th>\n",
       "      <th>frp</th>\n",
       "    </tr>\n",
       "  </thead>\n",
       "  <tbody>\n",
       "    <tr>\n",
       "      <th>0</th>\n",
       "      <td>2015-10-01</td>\n",
       "      <td>31.4</td>\n",
       "      <td>-85.8</td>\n",
       "      <td>9.5</td>\n",
       "    </tr>\n",
       "    <tr>\n",
       "      <th>1</th>\n",
       "      <td>2015-10-01</td>\n",
       "      <td>30.2</td>\n",
       "      <td>-91.0</td>\n",
       "      <td>4.8</td>\n",
       "    </tr>\n",
       "    <tr>\n",
       "      <th>2</th>\n",
       "      <td>2015-10-01</td>\n",
       "      <td>30.4</td>\n",
       "      <td>-94.8</td>\n",
       "      <td>5.6</td>\n",
       "    </tr>\n",
       "    <tr>\n",
       "      <th>3</th>\n",
       "      <td>2015-10-01</td>\n",
       "      <td>35.6</td>\n",
       "      <td>-96.2</td>\n",
       "      <td>8.8</td>\n",
       "    </tr>\n",
       "    <tr>\n",
       "      <th>4</th>\n",
       "      <td>2015-10-01</td>\n",
       "      <td>35.9</td>\n",
       "      <td>-89.8</td>\n",
       "      <td>12.9</td>\n",
       "    </tr>\n",
       "  </tbody>\n",
       "</table>\n",
       "</div>"
      ],
      "text/plain": [
       "        date  round_lat  round_lon   frp\n",
       "0 2015-10-01       31.4      -85.8   9.5\n",
       "1 2015-10-01       30.2      -91.0   4.8\n",
       "2 2015-10-01       30.4      -94.8   5.6\n",
       "3 2015-10-01       35.6      -96.2   8.8\n",
       "4 2015-10-01       35.9      -89.8  12.9"
      ]
     },
     "execution_count": 195,
     "metadata": {},
     "output_type": "execute_result"
    }
   ],
   "source": [
    "result2 = result2.drop(\"year\", axis=1)\n",
    "result2 = result2.drop(\"month\", axis=1)\n",
    "result2.head()"
   ]
  },
  {
   "cell_type": "code",
   "execution_count": 196,
   "metadata": {},
   "outputs": [
    {
     "data": {
      "text/html": [
       "<div>\n",
       "<style scoped>\n",
       "    .dataframe tbody tr th:only-of-type {\n",
       "        vertical-align: middle;\n",
       "    }\n",
       "\n",
       "    .dataframe tbody tr th {\n",
       "        vertical-align: top;\n",
       "    }\n",
       "\n",
       "    .dataframe thead th {\n",
       "        text-align: right;\n",
       "    }\n",
       "</style>\n",
       "<table border=\"1\" class=\"dataframe\">\n",
       "  <thead>\n",
       "    <tr style=\"text-align: right;\">\n",
       "      <th></th>\n",
       "      <th>date</th>\n",
       "      <th>round_lat</th>\n",
       "      <th>round_lon</th>\n",
       "      <th>frp</th>\n",
       "    </tr>\n",
       "  </thead>\n",
       "  <tbody>\n",
       "    <tr>\n",
       "      <th>0</th>\n",
       "      <td>2015-10-01</td>\n",
       "      <td>19.3</td>\n",
       "      <td>-155.2</td>\n",
       "      <td>30.6</td>\n",
       "    </tr>\n",
       "    <tr>\n",
       "      <th>1</th>\n",
       "      <td>2015-10-01</td>\n",
       "      <td>19.4</td>\n",
       "      <td>-155.3</td>\n",
       "      <td>18847.1</td>\n",
       "    </tr>\n",
       "    <tr>\n",
       "      <th>2</th>\n",
       "      <td>2015-10-01</td>\n",
       "      <td>19.4</td>\n",
       "      <td>-155.1</td>\n",
       "      <td>23359.3</td>\n",
       "    </tr>\n",
       "    <tr>\n",
       "      <th>3</th>\n",
       "      <td>2015-10-01</td>\n",
       "      <td>19.4</td>\n",
       "      <td>-155.0</td>\n",
       "      <td>876.4</td>\n",
       "    </tr>\n",
       "    <tr>\n",
       "      <th>4</th>\n",
       "      <td>2015-10-01</td>\n",
       "      <td>20.8</td>\n",
       "      <td>-156.8</td>\n",
       "      <td>13.7</td>\n",
       "    </tr>\n",
       "  </tbody>\n",
       "</table>\n",
       "</div>"
      ],
      "text/plain": [
       "        date  round_lat  round_lon      frp\n",
       "0 2015-10-01       19.3     -155.2     30.6\n",
       "1 2015-10-01       19.4     -155.3  18847.1\n",
       "2 2015-10-01       19.4     -155.1  23359.3\n",
       "3 2015-10-01       19.4     -155.0    876.4\n",
       "4 2015-10-01       20.8     -156.8     13.7"
      ]
     },
     "execution_count": 196,
     "metadata": {},
     "output_type": "execute_result"
    }
   ],
   "source": [
    "result2 = result2.groupby(['date','round_lat','round_lon'],as_index=False).sum()\n",
    "result2.head()"
   ]
  },
  {
   "cell_type": "code",
   "execution_count": 197,
   "metadata": {},
   "outputs": [],
   "source": [
    "result2.to_csv(\"fire_data.csv\",index=False)"
   ]
  },
  {
   "cell_type": "code",
   "execution_count": 199,
   "metadata": {},
   "outputs": [
    {
     "data": {
      "text/plain": [
       "156625"
      ]
     },
     "execution_count": 199,
     "metadata": {},
     "output_type": "execute_result"
    }
   ],
   "source": [
    "result2.shape[0]"
   ]
  },
  {
   "cell_type": "code",
   "execution_count": null,
   "metadata": {},
   "outputs": [],
   "source": [
    "fire_list2 = [result2.columns.values.tolist()] + result2.values.tolist()"
   ]
  },
  {
   "cell_type": "code",
   "execution_count": null,
   "metadata": {},
   "outputs": [],
   "source": [
    "# pprint(fire_list)\n",
    "fire_list_no_header2 = fire_list2[1:]\n",
    "sample_data = fire_list_no_header2[115000]\n",
    "lat = sample_data[5]\n",
    "lon = sample_data[6]\n",
    "target_url = f'https://maps.googleapis.com/maps/api/geocode/json?latlng={lat},{lon}&key={api_key}'\n",
    "geo_data = requests.get(target_url).json()\n",
    "# state_name = (geo_data[\"results\"][0][\"address_components\"][3][\"long_name\"])\n",
    "print(geo_data)"
   ]
  },
  {
   "cell_type": "code",
   "execution_count": null,
   "metadata": {},
   "outputs": [],
   "source": [
    "# for i in fire_list_no_header:\n",
    "#     lat = i[4]\n",
    "#     lon = i[5]\n",
    "#     target_url = f'https://maps.googleapis.com/maps/api/geocode/json?latlng={lat},{lon}&key={api_key}'\n",
    "#     geo_data = requests.get(target_url).json()\n",
    "#     state_name = (geo_data[\"results\"][0][\"address_components\"][3][\"long_name\"])\n",
    "#     print(formatted_address)\n",
    "#     fire_loc.append(formatted_address)\n",
    "#     pprint(geo_data)\n",
    "#     frp = i[6]\n",
    "#     print(f'[{lat},{lon}]')"
   ]
  },
  {
   "cell_type": "code",
   "execution_count": null,
   "metadata": {},
   "outputs": [],
   "source": [
    "fire_loc = []\n",
    "\n",
    "for i in fire_list_no_header2:\n",
    "    lat = i[5]\n",
    "    lon = i[6]\n",
    "    try:\n",
    "        target_url = f'https://maps.googleapis.com/maps/api/geocode/json?latlng={lat},{lon}&key={api_key}'\n",
    "        geo_data = requests.get(target_url).json()\n",
    "#         print(geo_data)\n",
    "        formatted_address = (geo_data[\"results\"][1][\"formatted_address\"])\n",
    "        print(formatted_address)\n",
    "        fire_loc.append(formatted_address)\n",
    "    except IndexError:\n",
    "        print(\"N/A\")"
   ]
  },
  {
   "cell_type": "code",
   "execution_count": null,
   "metadata": {},
   "outputs": [],
   "source": [
    "len(fire_loc)"
   ]
  },
  {
   "cell_type": "code",
   "execution_count": null,
   "metadata": {},
   "outputs": [],
   "source": [
    "result2['location'] = fire_loc"
   ]
  },
  {
   "cell_type": "code",
   "execution_count": null,
   "metadata": {},
   "outputs": [],
   "source": [
    "len(result2)"
   ]
  },
  {
   "cell_type": "code",
   "execution_count": null,
   "metadata": {},
   "outputs": [],
   "source": [
    "type(result2)"
   ]
  },
  {
   "cell_type": "code",
   "execution_count": null,
   "metadata": {},
   "outputs": [],
   "source": [
    "result2.to_csv(\"fire_df2.csv\", sep=',')"
   ]
  },
  {
   "cell_type": "markdown",
   "metadata": {},
   "source": [
    "#### In SQLite Studio:\n",
    "\n",
    "'fire_df2.csv' uploaded into table 'filtered_table2'<br>\n",
    "the returned value from the API calls resulted in an address which was inconsistent and as a result<br>\n",
    "both state name and initials needed to be searched<br>\n",
    "states were added from result2['location'] by searching the string for state name or initials<br>\n",
    "\n",
    "UPDATE filtered_table2<br>\n",
    "SET state_name = \"Hawaii\"<br>\n",
    "WHERE location LIKE '%Hawaii%'<br>\n",
    "OR location regexp '[[:<:]]HI[[:>:]]';<br>\n",
    "\n",
    "city/state name conflicts (such as Washington, Utah) were resolved by going back and specifying with 'AND' parameter<br>\n",
    "\n",
    "UPDATE filtered_table2<br>\n",
    "SET state_name = \"Utah\"<br>\n",
    "WHERE location LIKE 'Washington%'<br>\n",
    "AND location regexp '[[:<:]]UT[[:>:]]';<br>\n",
    "\n",
    "there were multiple rows where the location was 'Yellowstone National Park', as this National Park<br> \n",
    "crosses multiple state lines these datasets will be removed from the returned database in pandas dataframe<br>\n",
    "for simplicity. \n",
    "\n"
   ]
  },
  {
   "cell_type": "code",
   "execution_count": null,
   "metadata": {},
   "outputs": [],
   "source": [
    "data2 = pd.read_csv (r'C:\\Users\\Ryan\\Desktop\\forest_fires\\filtered_fires2.csv')"
   ]
  },
  {
   "cell_type": "code",
   "execution_count": null,
   "metadata": {},
   "outputs": [],
   "source": [
    "print(data2)"
   ]
  },
  {
   "cell_type": "markdown",
   "metadata": {},
   "source": [
    "#### clearing empty state name values "
   ]
  },
  {
   "cell_type": "code",
   "execution_count": null,
   "metadata": {},
   "outputs": [],
   "source": [
    "data2.dropna(axis=0, inplace=True) "
   ]
  },
  {
   "cell_type": "code",
   "execution_count": null,
   "metadata": {},
   "outputs": [],
   "source": [
    "print(data2)"
   ]
  },
  {
   "cell_type": "code",
   "execution_count": null,
   "metadata": {},
   "outputs": [],
   "source": [
    "group_by_state = data2.groupby(['state_name', 'date'])['frp'].agg('sum')\n",
    "print(group_by_state)"
   ]
  },
  {
   "cell_type": "code",
   "execution_count": null,
   "metadata": {},
   "outputs": [],
   "source": [
    "month_year = []\n",
    "\n",
    "for old_date in date_list:\n",
    "    new_date = '{:%m-%Y}'.format(dt.strptime(old_date, '%d/%m/%Y'))\n",
    "    month_year.append(new_date)"
   ]
  },
  {
   "cell_type": "code",
   "execution_count": null,
   "metadata": {},
   "outputs": [],
   "source": [
    "len(month_year)"
   ]
  },
  {
   "cell_type": "code",
   "execution_count": null,
   "metadata": {},
   "outputs": [],
   "source": [
    "data2['month-year'] = month_year\n",
    "print(data2)"
   ]
  },
  {
   "cell_type": "code",
   "execution_count": null,
   "metadata": {},
   "outputs": [],
   "source": [
    "group_by_state = data2.groupby(['state_name', 'month-year'])['frp'].agg('sum')\n",
    "print(group_by_state)"
   ]
  }
 ],
 "metadata": {
  "kernelspec": {
   "display_name": "Python 3",
   "language": "python",
   "name": "python3"
  },
  "language_info": {
   "codemirror_mode": {
    "name": "ipython",
    "version": 3
   },
   "file_extension": ".py",
   "mimetype": "text/x-python",
   "name": "python",
   "nbconvert_exporter": "python",
   "pygments_lexer": "ipython3",
   "version": "3.7.6"
  }
 },
 "nbformat": 4,
 "nbformat_minor": 4
}
