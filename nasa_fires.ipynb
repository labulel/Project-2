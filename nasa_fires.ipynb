{
 "cells": [
  {
   "cell_type": "markdown",
   "metadata": {},
   "source": [
    "### importing dependaices"
   ]
  },
  {
   "cell_type": "code",
   "execution_count": 1,
   "metadata": {},
   "outputs": [],
   "source": [
    "import pandas as pd\n",
    "import requests\n",
    "import json\n",
    "import numpy as np\n",
    "from pprint import pprint"
   ]
  },
  {
   "cell_type": "markdown",
   "metadata": {},
   "source": [
    "### importing api key"
   ]
  },
  {
   "cell_type": "code",
   "execution_count": 2,
   "metadata": {},
   "outputs": [],
   "source": [
    "from config import api_key"
   ]
  },
  {
   "cell_type": "markdown",
   "metadata": {},
   "source": [
    "### reading in data from csv\n",
    "#### filtered_fires.csv was filtered from origonal data in SQLiteStudio removing low/nominal confidence and non-vegetation fires"
   ]
  },
  {
   "cell_type": "code",
   "execution_count": 3,
   "metadata": {},
   "outputs": [],
   "source": [
    "data = pd.read_csv (r'C:\\Users\\Ryan\\Desktop\\forest_fires\\filtered_fires.csv')"
   ]
  },
  {
   "cell_type": "markdown",
   "metadata": {},
   "source": [
    "### Snippet from readme file explaining the column values"
   ]
  },
  {
   "cell_type": "markdown",
   "metadata": {},
   "source": [
    "https://earthdata.nasa.gov/earth-observation-data/near-real-time/firms/v1-vnp14imgt#ed-viirs-375m-attributes\n",
    "\n",
    "Latitude: Center of nominal 375 m fire pixel\n",
    "\n",
    "Longitude: Longitude\tCenter of nominal 375 m fire pixel\n",
    "\n",
    "Bright_ti4: Brightness temperature I-4\tVIIRS I-4 channel brightness temperature of the fire pixel measured in Kelvin.\n",
    "\n",
    "Scan: Along Scan pixel size\tThe algorithm produces approximately 375 m pixels at nadir. Scan and track reflect actual pixel size.\n",
    "\n",
    "Track: Along Track pixel size\tThe algorithm produces approximately 375 m pixels at nadir. Scan and track reflect actual pixel size.\n",
    "\n",
    "Acq_Date: Acquisition Date\tDate of VIIRS acquisition.\n",
    "Acq_Time: Acquisition Time\tTime of acquisition/overpass of the satellite (in UTC).\n",
    "Satellite: Satellite\tN= Suomi National Polar-orbiting Partnership (Suomi NPP)\n",
    "Confidence: Confidence\t\n",
    "This value is based on a collection of intermediate algorithm quantities used in the detection process. It is intended to help users gauge the quality of individual hotspot/fire pixels. Confidence values are set to low, nominal and high. Low confidence daytime fire pixels are typically associated with areas of sun glint and lower relative temperature anomaly (<15K) in the mid-infrared channel I4. Nominal confidence pixels are those free of potential sun glint contamination during the day and marked by strong (>15K) temperature anomaly in either day or nighttime data. High confidence fire pixels are associated with day or nighttime saturated pixels.\n",
    "\n",
    "Version: (Collection and source) Version identifies the collection (e.g. VIIRS Collection 1) and source of data processing: Near Real-Time (NRT suffix added to collection) or Standard Processing (collection only). \"1.0NRT\" - Collection 1 NRT processing. \"1.0\" - Collection 1 Standard processing.\n",
    "\n",
    "Bright_ti5:\tBrightness temperature I-5\tI-5 Channel brightness temperature of the fire pixel measured in Kelvin.\n",
    "\n",
    "FRP\t(Fire Radiative Power): FRP depicts the pixel-integrated fire radiative power in MW (megawatts). Given the unique spatial and spectral resolution of the data, the VIIRS 375 m fire detection algorithm was customized and tuned in order to optimize its response over small fires while balancing the occurrence of false alarms. Frequent saturation of the mid-infrared I4 channel (3.55-3.93 µm) driving the detection of active fires requires additional tests and procedures to avoid pixel classification errors. As a result, sub-pixel fire characterization (e.g., fire radiative power [FRP] retrieval) is only viable across small and/or low-intensity fires. Systematic FRP retrievals are based on a hybrid approach combining 375 and 750 m data. In fact, starting in 2015 the algorithm incorporated additional VIIRS channel M13 (3.973-4.128 µm) 750 m data in both aggregated and unaggregated format.\n",
    "\n",
    "Type:Inferred hot spot type\t\n",
    "    0 = presumed vegetation fire\n",
    "    1 = active volcano\n",
    "    2 = other static land source\n",
    "    3 = offshore detection (includes all detections over water)\n",
    "DayNight: Day or Night; D= Daytime fire, N= Nighttime fire"
   ]
  },
  {
   "cell_type": "markdown",
   "metadata": {},
   "source": [
    "### creating the dataframe from csv file with header names"
   ]
  },
  {
   "cell_type": "code",
   "execution_count": 4,
   "metadata": {},
   "outputs": [],
   "source": [
    "df = pd.DataFrame(data, columns = ['latitude',\n",
    "                                   'longitude',\n",
    "                                   'bright_ti4',\n",
    "                                   'scan',\n",
    "                                   'track',\n",
    "                                   'acq_date',\n",
    "                                   'acq_time',\n",
    "                                   'satellite',\n",
    "                                   'instrument',\n",
    "                                   'confidence',\n",
    "                                   'version',\n",
    "                                   'bright_ti5',\n",
    "                                   'frp',\n",
    "                                   'daynight',\n",
    "                                   'type'])\n",
    "filtered_df = df.drop(['bright_ti4',\n",
    "                       'scan',\n",
    "                       'track',\n",
    "                       'satellite',\n",
    "                       'instrument',\n",
    "                       'confidence',\n",
    "                       'version',\n",
    "                       'bright_ti5',\n",
    "                       'daynight',\n",
    "                       'type'], axis = 1)"
   ]
  },
  {
   "cell_type": "code",
   "execution_count": 5,
   "metadata": {},
   "outputs": [
    {
     "data": {
      "text/plain": [
       "<bound method NDFrame.head of         latitude   longitude    acq_date  acq_time    frp\n",
       "0      19.418756 -155.083542  01/10/2015      1120   7.14\n",
       "1      19.408396 -155.091934  01/10/2015      1120   8.82\n",
       "2      19.413961 -155.091431  01/10/2015      1120  24.02\n",
       "3      19.412861 -155.093277  01/10/2015      1120  22.31\n",
       "4      19.421993 -155.060715  01/10/2015      1120  14.90\n",
       "...          ...         ...         ...       ...    ...\n",
       "59859  27.412804  -81.409821  11/11/2017      1752   9.22\n",
       "59860  27.412285  -81.410515  11/11/2017      1752  10.40\n",
       "59861  30.525211  -86.703514  11/11/2017      1753  12.33\n",
       "59862  30.526947  -86.697243  11/11/2017      1753  12.33\n",
       "59863  26.298752  -97.524200  11/11/2017      1933  11.39\n",
       "\n",
       "[59864 rows x 5 columns]>"
      ]
     },
     "execution_count": 5,
     "metadata": {},
     "output_type": "execute_result"
    }
   ],
   "source": [
    "filtered_df.head"
   ]
  },
  {
   "cell_type": "code",
   "execution_count": 6,
   "metadata": {},
   "outputs": [],
   "source": [
    "# filtered_df.to_csv(\"unrounded_data.csv\", sep=',')"
   ]
  },
  {
   "cell_type": "markdown",
   "metadata": {},
   "source": [
    "### rounding the lat and lon to simplify and group dataframe"
   ]
  },
  {
   "cell_type": "code",
   "execution_count": 7,
   "metadata": {},
   "outputs": [],
   "source": [
    "rounded_df = filtered_df.round({'latitude':1, 'longitude':1})\n",
    "rounded_df2 = rounded_df.rename(columns={\"latitude\": \"round_lat\",\n",
    "                                         \"longitude\":\"round_lon\",\n",
    "                                         \"acq_date\":\"date\",\n",
    "                                         \"acq_time\":\"time\",\n",
    "                                         \"frp\":\"fire_pow\"})"
   ]
  },
  {
   "cell_type": "code",
   "execution_count": 8,
   "metadata": {},
   "outputs": [
    {
     "data": {
      "text/plain": [
       "<bound method NDFrame.head of        round_lat  round_lon        date  time  fire_pow\n",
       "0           19.4     -155.1  01/10/2015  1120      7.14\n",
       "1           19.4     -155.1  01/10/2015  1120      8.82\n",
       "2           19.4     -155.1  01/10/2015  1120     24.02\n",
       "3           19.4     -155.1  01/10/2015  1120     22.31\n",
       "4           19.4     -155.1  01/10/2015  1120     14.90\n",
       "...          ...        ...         ...   ...       ...\n",
       "59859       27.4      -81.4  11/11/2017  1752      9.22\n",
       "59860       27.4      -81.4  11/11/2017  1752     10.40\n",
       "59861       30.5      -86.7  11/11/2017  1753     12.33\n",
       "59862       30.5      -86.7  11/11/2017  1753     12.33\n",
       "59863       26.3      -97.5  11/11/2017  1933     11.39\n",
       "\n",
       "[59864 rows x 5 columns]>"
      ]
     },
     "execution_count": 8,
     "metadata": {},
     "output_type": "execute_result"
    }
   ],
   "source": [
    "rounded_df2.head"
   ]
  },
  {
   "cell_type": "code",
   "execution_count": 9,
   "metadata": {},
   "outputs": [
    {
     "name": "stdout",
     "output_type": "stream",
     "text": [
      "       round_lat  round_lon        date  time  fire_pow   latitude  \\\n",
      "0           19.4     -155.1  01/10/2015  1120      7.14  19.418756   \n",
      "1           19.4     -155.1  01/10/2015  1120      8.82  19.408396   \n",
      "2           19.4     -155.1  01/10/2015  1120     24.02  19.413961   \n",
      "3           19.4     -155.1  01/10/2015  1120     22.31  19.412861   \n",
      "4           19.4     -155.1  01/10/2015  1120     14.90  19.421993   \n",
      "...          ...        ...         ...   ...       ...        ...   \n",
      "59859       27.4      -81.4  11/11/2017  1752      9.22  27.412804   \n",
      "59860       27.4      -81.4  11/11/2017  1752     10.40  27.412285   \n",
      "59861       30.5      -86.7  11/11/2017  1753     12.33  30.525211   \n",
      "59862       30.5      -86.7  11/11/2017  1753     12.33  30.526947   \n",
      "59863       26.3      -97.5  11/11/2017  1933     11.39  26.298752   \n",
      "\n",
      "        longitude    acq_date  acq_time    frp  \n",
      "0     -155.083542  01/10/2015      1120   7.14  \n",
      "1     -155.091934  01/10/2015      1120   8.82  \n",
      "2     -155.091431  01/10/2015      1120  24.02  \n",
      "3     -155.093277  01/10/2015      1120  22.31  \n",
      "4     -155.060715  01/10/2015      1120  14.90  \n",
      "...           ...         ...       ...    ...  \n",
      "59859  -81.409821  11/11/2017      1752   9.22  \n",
      "59860  -81.410515  11/11/2017      1752  10.40  \n",
      "59861  -86.703514  11/11/2017      1753  12.33  \n",
      "59862  -86.697243  11/11/2017      1753  12.33  \n",
      "59863  -97.524200  11/11/2017      1933  11.39  \n",
      "\n",
      "[59864 rows x 10 columns]\n",
      "<class 'pandas.core.frame.DataFrame'>\n",
      "RangeIndex: 59864 entries, 0 to 59863\n",
      "Data columns (total 10 columns):\n",
      " #   Column     Non-Null Count  Dtype  \n",
      "---  ------     --------------  -----  \n",
      " 0   round_lat  59864 non-null  float64\n",
      " 1   round_lon  59864 non-null  float64\n",
      " 2   date       59864 non-null  object \n",
      " 3   time       59864 non-null  int64  \n",
      " 4   fire_pow   59864 non-null  float64\n",
      " 5   latitude   59864 non-null  float64\n",
      " 6   longitude  59864 non-null  float64\n",
      " 7   acq_date   59864 non-null  object \n",
      " 8   acq_time   59864 non-null  int64  \n",
      " 9   frp        59864 non-null  float64\n",
      "dtypes: float64(6), int64(2), object(2)\n",
      "memory usage: 4.6+ MB\n"
     ]
    }
   ],
   "source": [
    "result = pd.concat([rounded_df2, filtered_df], axis=1).reindex(rounded_df.index)\n",
    "# result2 = result.drop_duplicates\n",
    "# print(result2)\n",
    "# # type(result2)\n",
    "print(result)\n",
    "result.info()"
   ]
  },
  {
   "cell_type": "code",
   "execution_count": 10,
   "metadata": {},
   "outputs": [],
   "source": [
    "result2 = result.drop(['acq_date', 'acq_time', 'fire_pow'],axis=1)\n",
    "# modDfObj = dfObj.drop([dfObj.columns[1] , dfObj.columns[2]] ,  axis='columns')\n",
    "# modDfObj = dfObj.drop(['Age' , 'Name'] , axis='columns')"
   ]
  },
  {
   "cell_type": "markdown",
   "metadata": {},
   "source": [
    "### grouping by date/lat/lon and returning max FRP to get the highest FRP for unique day/location"
   ]
  },
  {
   "cell_type": "code",
   "execution_count": 11,
   "metadata": {},
   "outputs": [
    {
     "name": "stdout",
     "output_type": "stream",
     "text": [
      "0        False\n",
      "1        False\n",
      "2         True\n",
      "3        False\n",
      "4        False\n",
      "         ...  \n",
      "59859    False\n",
      "59860     True\n",
      "59861     True\n",
      "59862     True\n",
      "59863     True\n",
      "Name: frp, Length: 59864, dtype: bool\n"
     ]
    }
   ],
   "source": [
    "df2 = result2.groupby(['round_lat', 'round_lon', 'date'])['frp'].transform(max) == result['frp']\n",
    "print(df2)"
   ]
  },
  {
   "cell_type": "code",
   "execution_count": 12,
   "metadata": {},
   "outputs": [
    {
     "name": "stdout",
     "output_type": "stream",
     "text": [
      "       round_lat  round_lon        date  time   latitude   longitude     frp\n",
      "2           19.4     -155.1  01/10/2015  1120  19.413961 -155.091431   24.02\n",
      "11          32.0      -91.7  01/10/2015  1911  31.958311  -91.721252   81.70\n",
      "12          30.8      -95.0  01/10/2015  1911  30.798439  -95.018036   69.37\n",
      "13          31.1      -90.8  01/10/2015  1911  31.059824  -90.767311  128.65\n",
      "14          31.1      -90.8  01/10/2015  1911  31.056522  -90.766647  128.65\n",
      "...          ...        ...         ...   ...        ...         ...     ...\n",
      "59858       26.5      -80.5  11/11/2017  1752  26.513035  -80.520752   14.68\n",
      "59860       27.4      -81.4  11/11/2017  1752  27.412285  -81.410515   10.40\n",
      "59861       30.5      -86.7  11/11/2017  1753  30.525211  -86.703514   12.33\n",
      "59862       30.5      -86.7  11/11/2017  1753  30.526947  -86.697243   12.33\n",
      "59863       26.3      -97.5  11/11/2017  1933  26.298752  -97.524200   11.39\n",
      "\n",
      "[23637 rows x 7 columns]\n"
     ]
    }
   ],
   "source": [
    "df3 = result2[df2]\n",
    "print(df3)"
   ]
  },
  {
   "cell_type": "markdown",
   "metadata": {},
   "source": [
    "### condensed forest fire dataframe\n",
    "\n",
    "#### consists of single FRP value for each simplified location\n",
    "#### need to left-join on index long-form lat/long from 'filtered_df' to do marker placement\n",
    "#### final DF should also have formatted location data (reverse google-API call) for marker labels"
   ]
  },
  {
   "cell_type": "markdown",
   "metadata": {},
   "source": [
    "### transforming dataframe to dictionary to execute for-loops\n",
    "#### perform API calls - formatted address, marker placement"
   ]
  },
  {
   "cell_type": "code",
   "execution_count": 13,
   "metadata": {},
   "outputs": [
    {
     "name": "stdout",
     "output_type": "stream",
     "text": [
      "[['round_lat', 'round_lon', 'date', 'time', 'latitude', 'longitude', 'frp']]\n"
     ]
    }
   ],
   "source": [
    "\n",
    "\n",
    "fire_list = [df3.columns.values.tolist()] + df3.values.tolist()\n",
    "\n",
    "# fire_list.to_csv(\"fire_list.csv\", sep=',')\n",
    "fire_list_no_header = fire_list[1:]\n",
    "header = fire_list[:1]\n",
    "print(header)\n",
    "# print(fire_list_no_header)"
   ]
  },
  {
   "cell_type": "code",
   "execution_count": 14,
   "metadata": {},
   "outputs": [],
   "source": [
    "fire_df = pd.DataFrame(fire_list)\n",
    "fire_df.columns = ['round_lat', 'round_lon', 'date', 'time', 'latitude', 'longitude', 'frp']\n",
    "fire_df.to_csv(\"fire_df.csv\", sep=',')"
   ]
  },
  {
   "cell_type": "code",
   "execution_count": 15,
   "metadata": {},
   "outputs": [],
   "source": [
    "### reverse geodata api call to get location based on lat/lon"
   ]
  },
  {
   "cell_type": "code",
   "execution_count": null,
   "metadata": {},
   "outputs": [
    {
     "name": "stdout",
     "output_type": "stream",
     "text": [
      "Island of Hawai'i, Hawaii, USA\n",
      "670 Berry Ln, Wisner, LA 71378, USA\n",
      "Segno, TX 77351, USA\n",
      "Liberty, MS 39645, USA\n",
      "4839 Mary Wall Bridge Rd, Liberty, MS 39645, USA\n",
      "8118-7968 Co Rd 28, Mountain View, AR 72560, USA\n",
      "Monroe Township, AR, USA\n",
      "27934-28420 Weeks Rd, Waldron, AR 72958, USA\n",
      "Western Grove, AR 72685, USA\n",
      "Arkansas Township, AR, USA\n",
      "De Bastrop Township, AR, USA\n",
      "De Bastrop Township, AR, USA\n",
      "6600-8004 Cornerstone Rd, Altheimer, AR 72004, USA\n",
      "29666 AR-75, Marked Tree, AR 72365, USA\n",
      "4455-4553 Island 40 Rd, Marion, AR 72364, USA\n",
      "3118-3134 Wilson Rd, Wabbaseka, AR 72175, USA\n",
      "3829 Bill Mac Rd, Carlisle, AR 72024, USA\n",
      "841 G Rd, Larned, KS 67550, USA\n",
      "Truchas, NM 87578, USA\n",
      "16139-17499 E Trimmer Springs Rd, Sanger, CA 93657, USA\n",
      "Island of Hawai'i, Hawaii, USA\n",
      "Island of Hawai'i, Hawaii, USA\n",
      "8061-8001 FM457, Bay City, TX 77414, USA\n",
      "Matagorda County, TX, USA\n",
      "Matagorda County, TX, USA\n",
      "Wiergate, TX 75977, USA\n",
      "1419 Co Rd 212, Falfurrias, TX 78355, USA\n",
      "1900 AR-277, Watson, AR 71674, USA\n",
      "San Angelo, TX 76904, USA\n",
      "San Angelo, TX 76904, USA\n",
      "San Angelo, TX 76904, USA\n",
      "23800-29096 Campbell Hollow Rd, Waldron, AR 72958, USA\n",
      "1640 County Rd 124, Kenedy, TX 78119, USA\n",
      "Austwell, TX 77950, USA\n",
      "398-100 Co Rd 3811, Wills Point, TX 75169, USA\n",
      "Milford, KS, USA\n",
      "Milford, KS 66514, USA\n",
      "Milford, KS 66514, USA\n",
      "Lost Hills, CA 93249, USA\n",
      "12998-12500 S Madsen Ave, Kingsburg, CA 93631, USA\n",
      "2452-4124 Rogersburg Rd, Asotin, WA 99402, USA\n",
      "Nezperce, ID 83543, USA\n",
      "1800-1898 Riggers Rd, Nezperce, ID 83543, USA\n",
      "Lincoln County, MT, USA\n",
      "10219 Casey Ave, Delano, CA 93215, USA\n",
      "Island of Hawai'i, Hawaii, USA\n",
      "2975 Durphy Rd, Abbeville, LA 70510, USA\n",
      "Parish Governing Authority District 13, LA, USA\n",
      "Hawks Rd, Leesville, LA 71446, USA\n",
      "Trinity, TX 75862, USA\n",
      "Rockland, TX 75938, USA\n",
      "669 Co Rd 3265, Colmesneil, TX 75938, USA\n",
      "Anacoco, LA 71403, USA\n",
      "5704 Co-op Rd, Edgerton, KS 66021, USA\n",
      "7729 AR-95, Clinton, AR 72031, USA\n",
      "Mer Rouge, LA 71261, USA\n",
      "Black Fork Township, AR, USA\n",
      "Dove Creek, CO 81324, USA\n",
      "Williams, AZ 86046, USA\n",
      "Williams, AZ 86046, USA\n",
      "Lost Hills, CA 93249, USA\n",
      "26001-26999 188th Ave, Centerville, IA 52544, USA\n",
      "24240 Adams Ave, Orange Cove, CA 93646, USA\n",
      "73-107 S Highland Ave, Fowler, CA 93625, USA\n",
      "529 Ave 268, Exeter, CA 93221, USA\n",
      "Novato, CA 94945, USA\n",
      "Moscow, TX 75960, USA\n",
      "3304-3698 S Co Rd 85, Lepanto, AR 72354, USA\n",
      "20741 Farmer Rd, Omaha, IL 62871, USA\n",
      "Milford, KS 66514, USA\n",
      "Milford, KS 66514, USA\n",
      "Braggadocio Township, MO, USA\n",
      "5164 Delevan Rd, Princeton, CA 95970, USA\n",
      "Pomeroy, WA 99347, USA\n",
      "Pomeroy, WA 99347, USA\n",
      "Wallace, ID 83873, USA\n",
      "Clearwater County, ID, USA\n",
      "Island of Hawai'i, Hawaii, USA\n",
      "Island of Hawai'i, Hawaii, USA\n",
      "2135 Ash Logging Rd, Batesville, MS 38606, USA\n",
      "Deer Hill Rd, Nettleton, MS 38858, USA\n",
      "60000-60108 Jackson Rd, Smithville, MS 38870, USA\n",
      "Kleberg County, TX, USA\n",
      "Segno, TX 77351, USA\n",
      "Independence, LA 70443, USA\n",
      "Sabine Pass, TX 77655, USA\n",
      "3, LA, USA\n",
      "Carlton Township, AR, USA\n",
      "1360 Belen Rd, Marks, MS 38646, USA\n",
      "3172 State Hwy 318, Marvell, AR 72366, USA\n",
      "3828-4002 AR-367, Newport, AR 72112, USA\n",
      "2466 Whittingham Ln, Trumann, AR 72472, USA\n",
      "Askew, MS 38621, USA\n",
      "Garden Township, AR, USA\n",
      "210 AR-152, Humphrey, AR 72073, USA\n",
      "8624 Hilburn Ln, Tillar, AR 71670, USA\n",
      "2297 Gander Street Rd, Gillett, AR 72055, USA\n",
      "Glass Township, AR, USA\n",
      "1459 Co Rd 548, Steele, MO 63877, USA\n",
      "Pollard, AR 72456, USA\n",
      "5343 Buckhorn Rd, Ontario, OR 97914, USA\n",
      "Kingston, ID 83839, USA\n",
      "Dayton, WA 99328, USA\n",
      "Clearwater County, ID, USA\n",
      "Noxon, MT 59853, USA\n",
      "Shoshone County, ID, USA\n",
      "Island of Hawai'i, Hawaii, USA\n",
      "Island of Hawai'i, Hawaii, USA\n",
      "1179 Eubanks Quarters Rd, Lucedale, MS 39452, USA\n",
      "1481 Cox Rd, Dayton, TX 77535, USA\n",
      "10151 Co Rd 387, Philadelphia, MS 39350, USA\n",
      "Marion Township, AR, USA\n",
      "585 Burgess Rd, Altheimer, AR 72004, USA\n",
      "Poplar, CA 93257, USA\n",
      "Lakeview, OR 97630, USA\n",
      "Wallace, ID 83873, USA\n",
      "Clark Fork, ID 83811, USA\n",
      "Mitchell, OR 97750, USA\n",
      "Ashwood, OR 97711, USA\n",
      "Mineral County, MT, USA\n",
      "Mineral County, MT, USA\n",
      "Mineral County, MT, USA\n",
      "Thompson Falls, MT 59873, USA\n",
      "Island of Hawai'i, Hawaii, USA\n",
      "Parish Governing Authority District 1, LA, USA\n",
      "3840-4104 Larkin Ln, Oak Ridge, LA 71264, USA\n",
      "4 Co Rd 4349, Eden, TX 76837, USA\n",
      "Bateman Township, AR, USA\n",
      "Calhoun Township, AR, USA\n",
      "Catron, MO 63833, USA\n",
      "Tilden, TX 78072, USA\n",
      "Dunnellon, FL 34432, USA\n",
      "800 Locust Ln, Nicholls, GA 31554, USA\n",
      "3892 Coldwater River Rd, Coahoma, MS 38617, USA\n",
      "495 Kirkseys Bend, Ohatchee, AL 36271, USA\n",
      "O'Kean Township, AR, USA\n",
      "3000-3998 Tilley Ln, Fisher, AR 72429, USA\n",
      "Black Oak Township, AR, USA\n",
      "Coldwater Township, AR, USA\n",
      "Cypress Ridge Township, AR, USA\n",
      "Fisher, AR 72429, USA\n",
      "1419 Co Rd 191, Cash, AR 72421, USA\n",
      "2507 Gr 336 Rd, Bono, AR 72416, USA\n",
      "475 Co Rd 140, Bono, AR 72416, USA\n",
      "Pascola Township, MO, USA\n",
      "Knights Landing, CA 95645, USA\n",
      "Meridian, CA 95957, USA\n",
      "Colusa, CA 95932, USA\n",
      "2699-1383 86th Ave NE, Minot, ND 58703, USA\n",
      "Iota Flat, ND, USA\n",
      "4201-4299 95th St NW, Mohall, ND 58761, USA\n",
      "2501-2567 99th St NW, Antler, ND 58711, USA\n",
      "Island of Hawai'i, Hawaii, USA\n",
      "Gilbert, LA 71336, USA\n",
      "5, NC, USA\n",
      "3571 LA-339, Youngsville, LA 70592, USA\n",
      "Chico, CA 95928, USA\n",
      "4600 2 Mile Rd, Colusa, CA 95932, USA\n",
      "5240 Co Rd F, Willows, CA 95988, USA\n",
      "Willows, CA 95988, USA\n",
      "Zenner Rd, Nezperce, ID 83543, USA\n",
      "Williams, CA 95987, USA\n",
      "Knights Landing, CA 95645, USA\n",
      "320 Independence Lake Rd, Sierraville, CA 96126, USA\n",
      "Lassen County, CA, USA\n",
      "Lassen County, CA, USA\n",
      "Lassen County, CA, USA\n",
      "Lassen County, CA, USA\n",
      "379 Stark Bros Rd, Clio, AL 36017, USA\n",
      "Franklin, AL 36444, USA\n",
      "1191 Pcr 222, Perryville, MO 63775, USA\n",
      "Beaver Creek Township, IL, USA\n",
      "2600-2698 24th St NE, Harvey, ND 58341, USA\n",
      "Ramah, LA 70757, USA\n",
      "3251-3147 Old Pelham Rd, Camilla, GA 31730, USA\n",
      "1, LA, USA\n",
      "106 J Simmons Rd, Leesville, LA 71446, USA\n",
      "3427 AR-153, DeWitt, AR 72042, USA\n",
      "Bell City, MO 63735, USA\n",
      "30000 Co Rd 518, Sikeston, MO 63801, USA\n",
      "67 Chisholm Camp Rd, Ripley, TN 38063, USA\n",
      "1399-1301 Butler Ave, Sikeston, MO 63801, USA\n",
      "1399-1301 Butler Ave, Sikeston, MO 63801, USA\n",
      "38568 Co Rd 219, Campbell, MO 63933, USA\n",
      "38568 Co Rd 219, Campbell, MO 63933, USA\n",
      "Haskell, KS, USA\n",
      "399-301 N 2300E Rd, Rankin, IL 60960, USA\n",
      "Idaho, USA\n",
      "Idaho County, ID, USA\n",
      "Fox, OR 97856, USA\n",
      "5334 Bowen Rd, Williams, CA 95987, USA\n",
      "Lassen County, CA, USA\n",
      "Idaho County, ID, USA\n",
      "52217 W Yakitat Rd, Benton City, WA 99320, USA\n",
      "Lewis and Clark County, MT, USA\n",
      "Casper, WY, USA\n",
      "Alaska, USA\n",
      "2499 N 12250W Rd, Bonfield, IL 60913, USA\n",
      "Helgeland Township, MN, USA\n",
      "1000-1144 Par Rd 183, St Martinville, LA 70582, USA\n",
      "2700 US-165, England, AR 72046, USA\n",
      "2424-2488 US-165, England, AR 72046, USA\n",
      "Tuckerman, AR 72473, USA\n",
      "2967-2965 470th St, Bejou, MN 56516, USA\n",
      "Walker Creek Rd, Boise, ID 83716, USA\n",
      "281-299 18th Ave SE, Goodrich, ND 58444, USA\n",
      "Volborg, MT 59351, USA\n",
      "Three Forks, MT 59752, USA\n",
      "Three Forks, MT 59752, USA\n",
      "182 Hilltop Rd, Manhattan, MT 59741, USA\n",
      "10333 Co Rd 702, Evansville, WY 82636, USA\n",
      "8863-12561 Co Rd 702, Evansville, WY 82636, USA\n",
      "Three Forks, MT 59752, USA\n",
      "Three Forks, MT 59752, USA\n",
      "Three Forks, MT 59752, USA\n",
      "Boise, ID 83716, USA\n",
      "Island of Hawai'i, Hawaii, USA\n",
      "76 Sawmill Rd, Red Hook, NY 12571, USA\n",
      "26798-26500 Chipmans Rd, Federalsburg, MD 21632, USA\n",
      "Unnamed Road, Prineville, OR 97754, USA\n",
      "12166 Dixon Center Rd, Andalusia, AL 36420, USA\n",
      "Morriston, FL 32668, USA\n",
      "Callaway, FL 32404, USA\n",
      "44301 Sam Lewis Rd, Citronelle, AL 36522, USA\n",
      "99 Farm St, Camden, AL 36726, USA\n",
      "Beach St, Camden, AL 36726, USA\n",
      "Tutwiler, MS 38963, USA\n",
      "517 Willie Varner Rd, Shubuta, MS 39360, USA\n",
      "10999-10631 LA-411, Maringouin, LA 70757, USA\n",
      "1358 Daugereaux Ln, Mamou, LA 70554, USA\n",
      "2561 Bonner Town Rd, Needham, AL 36915, USA\n",
      "Franklin, AL 36444, USA\n",
      "2099-2073 US-412, Walnut Ridge, AR 72476, USA\n",
      "Sugar Creek Township, AR, USA\n",
      "5636 Co Rd 103, Waldron, AR 72958, USA\n",
      "Swifton, AR 72471, USA\n",
      "Tarzan, TX 79783, USA\n",
      "16433-15999 E 2500th St, Annawan, IL 61234, USA\n",
      "Hobart, OK 73651, USA\n",
      "3504-3000 W Parallel Rd, Garden City, KS 67846, USA\n",
      "Co Rd 18, Ulysses, KS 67880, USA\n",
      "8974 Rd 67, Butte City, CA 95920, USA\n",
      "Meridian, CA 95957, USA\n",
      "3974 Opal St, Evansville, WY 82636, USA\n",
      "Boise, ID 83716, USA\n",
      "Boise, ID 83716, USA\n",
      "528 Madsen Rd, Plummer, ID 83851, USA\n",
      "Island of Hawai'i, Hawaii, USA\n",
      "5040 Blue Springs Rd, Youngstown, FL 32466, USA\n",
      "2646 US-27, Perry, FL 32347, USA\n",
      "Marion County, FL, USA\n",
      "Baytown, TX 77521, USA\n"
     ]
    },
    {
     "name": "stdout",
     "output_type": "stream",
     "text": [
      "3697 FM2223, Bryan, TX 77808, USA\n",
      "Markham, TX 77456, USA\n",
      "Sargent, TX 77414, USA\n",
      "Smithville, TX 78957, USA\n",
      "36178 MS-14, Ethel, MS 39067, USA\n",
      "36178 MS-14, Ethel, MS 39067, USA\n",
      "8348-8616 FM1331, Taylor, TX 76574, USA\n",
      "3982 Co Rd 4167, Sallis, MS 39160, USA\n",
      "177-113 Leisure Dr, Napoleonville, LA 70390, USA\n",
      "Heflin, LA 71039, USA\n",
      "601 Par Rd 494, Heflin, LA 71039, USA\n",
      "2694 Co Rd 110, Corning, AR 72422, USA\n",
      "201-1199 Keller Ln, Pocahontas, AR 72455, USA\n",
      "748 N3910 Rd, Stuart, OK 74570, USA\n",
      "Walters, OK 73572, USA\n",
      "Wells Bayou Township, AR, USA\n",
      "13, Bucktown, MD, USA\n",
      "5439-5499 100th St NW, Kenmare, ND 58746, USA\n",
      "Prairie View, TX 77484, USA\n",
      "115 Turkey Run, Smithville, TX 78957, USA\n",
      "1604 Rd 3545, Cleveland, TX 77327, USA\n",
      "144 Palomino Cove, Jarrell, TX 76537, USA\n",
      "Unnamed Road, Harper, KS 67058, USA\n",
      "Lakeside, AZ 85929, USA\n",
      "Katie, OK 73433, USA\n",
      "2515-2541 NW Psge, Happy Jack, AZ 86024, USA\n",
      "Camargo, OK 73835, USA\n",
      "Manhattan, KS 66503, USA\n",
      "Franklin, KS, USA\n",
      "Hollister, CA 95023, USA\n",
      "30019 CO-114, Saguache, CO 81149, USA\n",
      "45601 316th St, Vermillion, SD 57069, USA\n",
      "Duchesne, UT 84021, USA\n",
      "Boise, ID 83716, USA\n",
      "Boise, ID 83716, USA\n",
      "Kinzua, OR 97830, USA\n",
      "16809 347th Ave, Faulkton, SD 57438, USA\n",
      "Darby, MT 59829, USA\n",
      "7399-7001 41st Ave NW, Carpio, ND 58725, USA\n",
      "4136-4100 73rd St NW, Carpio, ND 58725, USA\n",
      "5047-5053 76th St NW, Donnybrook, ND 58734, USA\n",
      "5277 31st St NE, Maddock, ND 58348, USA\n",
      "2524 66th St NE, Rugby, ND 58368, USA\n",
      "8th Ave N, Voltaire, ND 58792, USA\n",
      "3055 ND-37, Parshall, ND 58770, USA\n",
      "60th Ave NW, Plaza, ND 58771, USA\n",
      "16355 N Bank Rd, Roseburg, OR 97470, USA\n",
      "Island of Hawai'i, Hawaii, USA\n",
      "983 Co Hwy 61, Goshen, AL 36035, USA\n",
      "327-321 Luker Rd, Vredenburgh, AL 36481, USA\n",
      "956 Autauga County 19, Prattville, AL 36067, USA\n",
      "31349 US-331, Opp, AL 36467, USA\n",
      "Milton, FL 32570, USA\n",
      "Warren, TX 77664, USA\n",
      "Youngstown, FL 32466, USA\n",
      "Youngstown, FL 32466, USA\n",
      "32199-32021 Laurel Ridge Rd, White Castle, LA 70788, USA\n",
      "Alford, FL 32420, USA\n",
      "Ramah, LA 70757, USA\n",
      "12860 LA-76, Maringouin, LA 70757, USA\n",
      "LA-358, Opelousas, LA 70570, USA\n"
     ]
    }
   ],
   "source": [
    "for i in fire_list_no_header:\n",
    "    lat = i[4]\n",
    "    lon = i[5]\n",
    "    target_url = f'https://maps.googleapis.com/maps/api/geocode/json?latlng={lat},{lon}&key={api_key}'\n",
    "    geo_data = requests.get(target_url).json()\n",
    "    formatted_address = (geo_data[\"results\"][1][\"formatted_address\"])\n",
    "    print(formatted_address)\n",
    "#     pprint(geo_data)\n",
    "#     frp = i[6]\n",
    "#     print(f'[{lat},{lon}]')"
   ]
  }
 ],
 "metadata": {
  "kernelspec": {
   "display_name": "Python 3",
   "language": "python",
   "name": "python3"
  },
  "language_info": {
   "codemirror_mode": {
    "name": "ipython",
    "version": 3
   },
   "file_extension": ".py",
   "mimetype": "text/x-python",
   "name": "python",
   "nbconvert_exporter": "python",
   "pygments_lexer": "ipython3",
   "version": "3.7.6"
  }
 },
 "nbformat": 4,
 "nbformat_minor": 4
}
