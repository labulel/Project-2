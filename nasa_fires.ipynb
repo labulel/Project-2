{
 "cells": [
  {
   "cell_type": "markdown",
   "metadata": {},
   "source": [
    "### importing dependaices"
   ]
  },
  {
   "cell_type": "code",
   "execution_count": 1,
   "metadata": {},
   "outputs": [],
   "source": [
    "import pandas as pd\n",
    "import requests\n",
    "import json\n",
    "import numpy as np\n",
    "from pprint import pprint"
   ]
  },
  {
   "cell_type": "markdown",
   "metadata": {},
   "source": [
    "### importing api key"
   ]
  },
  {
   "cell_type": "code",
   "execution_count": 2,
   "metadata": {},
   "outputs": [],
   "source": [
    "from config import api_key"
   ]
  },
  {
   "cell_type": "markdown",
   "metadata": {},
   "source": [
    "### reading in data from csv\n",
    "#### filtered_fires.csv was filtered from origonal data in SQLiteStudio removing low/nominal confidence and non-vegetation fires"
   ]
  },
  {
   "cell_type": "code",
   "execution_count": 3,
   "metadata": {},
   "outputs": [],
   "source": [
    "data = pd.read_csv (r'C:\\Users\\Ryan\\Desktop\\forest_fires\\filtered_fires.csv')"
   ]
  },
  {
   "cell_type": "markdown",
   "metadata": {},
   "source": [
    "### Snippet from readme file explaining the column values"
   ]
  },
  {
   "cell_type": "markdown",
   "metadata": {},
   "source": [
    "https://earthdata.nasa.gov/earth-observation-data/near-real-time/firms/v1-vnp14imgt#ed-viirs-375m-attributes\n",
    "\n",
    "Latitude: Center of nominal 375 m fire pixel\n",
    "\n",
    "Longitude: Longitude\tCenter of nominal 375 m fire pixel\n",
    "\n",
    "Bright_ti4: Brightness temperature I-4\tVIIRS I-4 channel brightness temperature of the fire pixel measured in Kelvin.\n",
    "\n",
    "Scan: Along Scan pixel size\tThe algorithm produces approximately 375 m pixels at nadir. Scan and track reflect actual pixel size.\n",
    "\n",
    "Track: Along Track pixel size\tThe algorithm produces approximately 375 m pixels at nadir. Scan and track reflect actual pixel size.\n",
    "\n",
    "Acq_Date: Acquisition Date\tDate of VIIRS acquisition.\n",
    "Acq_Time: Acquisition Time\tTime of acquisition/overpass of the satellite (in UTC).\n",
    "Satellite: Satellite\tN= Suomi National Polar-orbiting Partnership (Suomi NPP)\n",
    "Confidence: Confidence\t\n",
    "This value is based on a collection of intermediate algorithm quantities used in the detection process. It is intended to help users gauge the quality of individual hotspot/fire pixels. Confidence values are set to low, nominal and high. Low confidence daytime fire pixels are typically associated with areas of sun glint and lower relative temperature anomaly (<15K) in the mid-infrared channel I4. Nominal confidence pixels are those free of potential sun glint contamination during the day and marked by strong (>15K) temperature anomaly in either day or nighttime data. High confidence fire pixels are associated with day or nighttime saturated pixels.\n",
    "\n",
    "Version: (Collection and source) Version identifies the collection (e.g. VIIRS Collection 1) and source of data processing: Near Real-Time (NRT suffix added to collection) or Standard Processing (collection only). \"1.0NRT\" - Collection 1 NRT processing. \"1.0\" - Collection 1 Standard processing.\n",
    "\n",
    "Bright_ti5:\tBrightness temperature I-5\tI-5 Channel brightness temperature of the fire pixel measured in Kelvin.\n",
    "\n",
    "FRP\t(Fire Radiative Power): FRP depicts the pixel-integrated fire radiative power in MW (megawatts). Given the unique spatial and spectral resolution of the data, the VIIRS 375 m fire detection algorithm was customized and tuned in order to optimize its response over small fires while balancing the occurrence of false alarms. Frequent saturation of the mid-infrared I4 channel (3.55-3.93 µm) driving the detection of active fires requires additional tests and procedures to avoid pixel classification errors. As a result, sub-pixel fire characterization (e.g., fire radiative power [FRP] retrieval) is only viable across small and/or low-intensity fires. Systematic FRP retrievals are based on a hybrid approach combining 375 and 750 m data. In fact, starting in 2015 the algorithm incorporated additional VIIRS channel M13 (3.973-4.128 µm) 750 m data in both aggregated and unaggregated format.\n",
    "\n",
    "Type:Inferred hot spot type\t\n",
    "    0 = presumed vegetation fire\n",
    "    1 = active volcano\n",
    "    2 = other static land source\n",
    "    3 = offshore detection (includes all detections over water)\n",
    "DayNight: Day or Night; D= Daytime fire, N= Nighttime fire"
   ]
  },
  {
   "cell_type": "markdown",
   "metadata": {},
   "source": [
    "### creating the dataframe from csv file with header names"
   ]
  },
  {
   "cell_type": "code",
   "execution_count": 4,
   "metadata": {},
   "outputs": [],
   "source": [
    "df = pd.DataFrame(data, columns = ['latitude',\n",
    "                                   'longitude',\n",
    "                                   'bright_ti4',\n",
    "                                   'scan',\n",
    "                                   'track',\n",
    "                                   'acq_date',\n",
    "                                   'acq_time',\n",
    "                                   'satellite',\n",
    "                                   'instrument',\n",
    "                                   'confidence',\n",
    "                                   'version',\n",
    "                                   'bright_ti5',\n",
    "                                   'frp',\n",
    "                                   'daynight',\n",
    "                                   'type'])\n",
    "filtered_df = df.drop(['bright_ti4',\n",
    "                       'scan',\n",
    "                       'track',\n",
    "                       'satellite',\n",
    "                       'instrument',\n",
    "                       'confidence',\n",
    "                       'version',\n",
    "                       'bright_ti5',\n",
    "                       'daynight',\n",
    "                       'type'], axis = 1)"
   ]
  },
  {
   "cell_type": "code",
   "execution_count": 5,
   "metadata": {},
   "outputs": [
    {
     "data": {
      "text/plain": [
       "<bound method NDFrame.head of         latitude   longitude    acq_date  acq_time    frp\n",
       "0      19.418756 -155.083542  01/10/2015      1120   7.14\n",
       "1      19.408396 -155.091934  01/10/2015      1120   8.82\n",
       "2      19.413961 -155.091431  01/10/2015      1120  24.02\n",
       "3      19.412861 -155.093277  01/10/2015      1120  22.31\n",
       "4      19.421993 -155.060715  01/10/2015      1120  14.90\n",
       "...          ...         ...         ...       ...    ...\n",
       "59859  27.412804  -81.409821  11/11/2017      1752   9.22\n",
       "59860  27.412285  -81.410515  11/11/2017      1752  10.40\n",
       "59861  30.525211  -86.703514  11/11/2017      1753  12.33\n",
       "59862  30.526947  -86.697243  11/11/2017      1753  12.33\n",
       "59863  26.298752  -97.524200  11/11/2017      1933  11.39\n",
       "\n",
       "[59864 rows x 5 columns]>"
      ]
     },
     "execution_count": 5,
     "metadata": {},
     "output_type": "execute_result"
    }
   ],
   "source": [
    "filtered_df.head"
   ]
  },
  {
   "cell_type": "code",
   "execution_count": 6,
   "metadata": {},
   "outputs": [],
   "source": [
    "# filtered_df.to_csv(\"unrounded_data.csv\", sep=',')"
   ]
  },
  {
   "cell_type": "markdown",
   "metadata": {},
   "source": [
    "### rounding the lat and lon to simplify and group dataframe"
   ]
  },
  {
   "cell_type": "code",
   "execution_count": 7,
   "metadata": {},
   "outputs": [],
   "source": [
    "rounded_df = filtered_df.round({'latitude':1, 'longitude':1})\n",
    "rounded_df2 = rounded_df.rename(columns={\"latitude\": \"round_lat\",\n",
    "                                         \"longitude\":\"round_lon\",\n",
    "                                         \"acq_date\":\"date\",\n",
    "                                         \"acq_time\":\"time\",\n",
    "                                         \"frp\":\"fire_pow\"})"
   ]
  },
  {
   "cell_type": "code",
   "execution_count": 8,
   "metadata": {},
   "outputs": [
    {
     "data": {
      "text/plain": [
       "<bound method NDFrame.head of        round_lat  round_lon        date  time  fire_pow\n",
       "0           19.4     -155.1  01/10/2015  1120      7.14\n",
       "1           19.4     -155.1  01/10/2015  1120      8.82\n",
       "2           19.4     -155.1  01/10/2015  1120     24.02\n",
       "3           19.4     -155.1  01/10/2015  1120     22.31\n",
       "4           19.4     -155.1  01/10/2015  1120     14.90\n",
       "...          ...        ...         ...   ...       ...\n",
       "59859       27.4      -81.4  11/11/2017  1752      9.22\n",
       "59860       27.4      -81.4  11/11/2017  1752     10.40\n",
       "59861       30.5      -86.7  11/11/2017  1753     12.33\n",
       "59862       30.5      -86.7  11/11/2017  1753     12.33\n",
       "59863       26.3      -97.5  11/11/2017  1933     11.39\n",
       "\n",
       "[59864 rows x 5 columns]>"
      ]
     },
     "execution_count": 8,
     "metadata": {},
     "output_type": "execute_result"
    }
   ],
   "source": [
    "rounded_df2.head"
   ]
  },
  {
   "cell_type": "code",
   "execution_count": 9,
   "metadata": {},
   "outputs": [
    {
     "name": "stdout",
     "output_type": "stream",
     "text": [
      "       round_lat  round_lon        date  time  fire_pow   latitude  \\\n",
      "0           19.4     -155.1  01/10/2015  1120      7.14  19.418756   \n",
      "1           19.4     -155.1  01/10/2015  1120      8.82  19.408396   \n",
      "2           19.4     -155.1  01/10/2015  1120     24.02  19.413961   \n",
      "3           19.4     -155.1  01/10/2015  1120     22.31  19.412861   \n",
      "4           19.4     -155.1  01/10/2015  1120     14.90  19.421993   \n",
      "...          ...        ...         ...   ...       ...        ...   \n",
      "59859       27.4      -81.4  11/11/2017  1752      9.22  27.412804   \n",
      "59860       27.4      -81.4  11/11/2017  1752     10.40  27.412285   \n",
      "59861       30.5      -86.7  11/11/2017  1753     12.33  30.525211   \n",
      "59862       30.5      -86.7  11/11/2017  1753     12.33  30.526947   \n",
      "59863       26.3      -97.5  11/11/2017  1933     11.39  26.298752   \n",
      "\n",
      "        longitude    acq_date  acq_time    frp  \n",
      "0     -155.083542  01/10/2015      1120   7.14  \n",
      "1     -155.091934  01/10/2015      1120   8.82  \n",
      "2     -155.091431  01/10/2015      1120  24.02  \n",
      "3     -155.093277  01/10/2015      1120  22.31  \n",
      "4     -155.060715  01/10/2015      1120  14.90  \n",
      "...           ...         ...       ...    ...  \n",
      "59859  -81.409821  11/11/2017      1752   9.22  \n",
      "59860  -81.410515  11/11/2017      1752  10.40  \n",
      "59861  -86.703514  11/11/2017      1753  12.33  \n",
      "59862  -86.697243  11/11/2017      1753  12.33  \n",
      "59863  -97.524200  11/11/2017      1933  11.39  \n",
      "\n",
      "[59864 rows x 10 columns]\n",
      "<class 'pandas.core.frame.DataFrame'>\n",
      "RangeIndex: 59864 entries, 0 to 59863\n",
      "Data columns (total 10 columns):\n",
      " #   Column     Non-Null Count  Dtype  \n",
      "---  ------     --------------  -----  \n",
      " 0   round_lat  59864 non-null  float64\n",
      " 1   round_lon  59864 non-null  float64\n",
      " 2   date       59864 non-null  object \n",
      " 3   time       59864 non-null  int64  \n",
      " 4   fire_pow   59864 non-null  float64\n",
      " 5   latitude   59864 non-null  float64\n",
      " 6   longitude  59864 non-null  float64\n",
      " 7   acq_date   59864 non-null  object \n",
      " 8   acq_time   59864 non-null  int64  \n",
      " 9   frp        59864 non-null  float64\n",
      "dtypes: float64(6), int64(2), object(2)\n",
      "memory usage: 4.6+ MB\n"
     ]
    }
   ],
   "source": [
    "result = pd.concat([rounded_df2, filtered_df], axis=1).reindex(rounded_df.index)\n",
    "# result2 = result.drop_duplicates\n",
    "# print(result2)\n",
    "# # type(result2)\n",
    "print(result)\n",
    "result.info()"
   ]
  },
  {
   "cell_type": "code",
   "execution_count": 10,
   "metadata": {},
   "outputs": [],
   "source": [
    "result2 = result.drop(['acq_date', 'acq_time', 'fire_pow'],axis=1)\n",
    "# modDfObj = dfObj.drop([dfObj.columns[1] , dfObj.columns[2]] ,  axis='columns')\n",
    "# modDfObj = dfObj.drop(['Age' , 'Name'] , axis='columns')"
   ]
  },
  {
   "cell_type": "markdown",
   "metadata": {},
   "source": [
    "### grouping by date/lat/lon and returning max FRP to get the highest FRP for unique day/location"
   ]
  },
  {
   "cell_type": "code",
   "execution_count": 11,
   "metadata": {},
   "outputs": [
    {
     "name": "stdout",
     "output_type": "stream",
     "text": [
      "0        False\n",
      "1        False\n",
      "2         True\n",
      "3        False\n",
      "4        False\n",
      "         ...  \n",
      "59859    False\n",
      "59860     True\n",
      "59861     True\n",
      "59862     True\n",
      "59863     True\n",
      "Name: frp, Length: 59864, dtype: bool\n"
     ]
    }
   ],
   "source": [
    "df2 = result2.groupby(['round_lat', 'round_lon', 'date'])['frp'].transform(max) == result['frp']\n",
    "print(df2)"
   ]
  },
  {
   "cell_type": "code",
   "execution_count": 12,
   "metadata": {},
   "outputs": [
    {
     "name": "stdout",
     "output_type": "stream",
     "text": [
      "       round_lat  round_lon        date  time   latitude   longitude     frp\n",
      "2           19.4     -155.1  01/10/2015  1120  19.413961 -155.091431   24.02\n",
      "11          32.0      -91.7  01/10/2015  1911  31.958311  -91.721252   81.70\n",
      "12          30.8      -95.0  01/10/2015  1911  30.798439  -95.018036   69.37\n",
      "13          31.1      -90.8  01/10/2015  1911  31.059824  -90.767311  128.65\n",
      "14          31.1      -90.8  01/10/2015  1911  31.056522  -90.766647  128.65\n",
      "...          ...        ...         ...   ...        ...         ...     ...\n",
      "59858       26.5      -80.5  11/11/2017  1752  26.513035  -80.520752   14.68\n",
      "59860       27.4      -81.4  11/11/2017  1752  27.412285  -81.410515   10.40\n",
      "59861       30.5      -86.7  11/11/2017  1753  30.525211  -86.703514   12.33\n",
      "59862       30.5      -86.7  11/11/2017  1753  30.526947  -86.697243   12.33\n",
      "59863       26.3      -97.5  11/11/2017  1933  26.298752  -97.524200   11.39\n",
      "\n",
      "[23637 rows x 7 columns]\n"
     ]
    }
   ],
   "source": [
    "df3 = result2[df2]\n",
    "print(df3)"
   ]
  },
  {
   "cell_type": "markdown",
   "metadata": {},
   "source": [
    "### condensed forest fire dataframe\n",
    "\n",
    "#### consists of single FRP value for each simplified location\n",
    "#### need to left-join on index long-form lat/long from 'filtered_df' to do marker placement\n",
    "#### final DF should also have formatted location data (reverse google-API call) for marker labels"
   ]
  },
  {
   "cell_type": "markdown",
   "metadata": {},
   "source": [
    "### transforming dataframe to dictionary to execute for-loops\n",
    "#### perform API calls - formatted address, marker placement"
   ]
  },
  {
   "cell_type": "code",
   "execution_count": 13,
   "metadata": {},
   "outputs": [
    {
     "name": "stdout",
     "output_type": "stream",
     "text": [
      "[['round_lat', 'round_lon', 'date', 'time', 'latitude', 'longitude', 'frp']]\n"
     ]
    }
   ],
   "source": [
    "\n",
    "\n",
    "fire_list = [df3.columns.values.tolist()] + df3.values.tolist()\n",
    "\n",
    "# fire_list.to_csv(\"fire_list.csv\", sep=',')\n",
    "fire_list_no_header = fire_list[1:]\n",
    "header = fire_list[:1]\n",
    "print(header)\n",
    "# print(fire_list_no_header)"
   ]
  },
  {
   "cell_type": "code",
   "execution_count": 14,
   "metadata": {},
   "outputs": [],
   "source": [
    "fire_df = pd.DataFrame(fire_list_no_header)\n",
    "fire_df.columns = ['round_lat', 'round_lon', 'date', 'time', 'latitude', 'longitude', 'frp']\n",
    "fire_df.to_csv(\"fire_df.csv\", sep=',')"
   ]
  },
  {
   "cell_type": "code",
   "execution_count": 15,
   "metadata": {},
   "outputs": [
    {
     "name": "stdout",
     "output_type": "stream",
     "text": [
      "{'plus_code': {'compound_code': 'CW75+HC Fern Forest, HI, USA',\n",
      "               'global_code': '73F6CW75+HC'},\n",
      " 'results': [{'address_components': [{'long_name': '96778',\n",
      "                                      'short_name': '96778',\n",
      "                                      'types': ['postal_code']},\n",
      "                                     {'long_name': 'Pāhoa',\n",
      "                                      'short_name': 'Pāhoa',\n",
      "                                      'types': ['locality', 'political']},\n",
      "                                     {'long_name': 'Hawaii County',\n",
      "                                      'short_name': 'Hawaii County',\n",
      "                                      'types': ['administrative_area_level_2',\n",
      "                                                'political']},\n",
      "                                     {'long_name': 'Hawaii',\n",
      "                                      'short_name': 'HI',\n",
      "                                      'types': ['administrative_area_level_1',\n",
      "                                                'political']},\n",
      "                                     {'long_name': 'United States',\n",
      "                                      'short_name': 'US',\n",
      "                                      'types': ['country', 'political']}],\n",
      "              'formatted_address': 'Pāhoa, HI 96778, USA',\n",
      "              'geometry': {'bounds': {'northeast': {'lat': 19.5970378,\n",
      "                                                    'lng': -154.8038581},\n",
      "                                      'southwest': {'lat': 19.2827501,\n",
      "                                                    'lng': -155.3490909}},\n",
      "                           'location': {'lat': 19.4095008, 'lng': -155.0483131},\n",
      "                           'location_type': 'APPROXIMATE',\n",
      "                           'viewport': {'northeast': {'lat': 19.5970378,\n",
      "                                                      'lng': -154.8038581},\n",
      "                                        'southwest': {'lat': 19.2827501,\n",
      "                                                      'lng': -155.3490909}}},\n",
      "              'place_id': 'ChIJa3nX7j4wUnkRCfq3IBeVVlg',\n",
      "              'types': ['postal_code']},\n",
      "             {'address_components': [{'long_name': \"Island of Hawai'i\",\n",
      "                                      'short_name': \"Island of Hawai'i\",\n",
      "                                      'types': ['establishment',\n",
      "                                                'natural_feature']},\n",
      "                                     {'long_name': 'Hawaii County',\n",
      "                                      'short_name': 'Hawaii County',\n",
      "                                      'types': ['administrative_area_level_2',\n",
      "                                                'political']},\n",
      "                                     {'long_name': 'Hawaii',\n",
      "                                      'short_name': 'HI',\n",
      "                                      'types': ['administrative_area_level_1',\n",
      "                                                'political']},\n",
      "                                     {'long_name': 'United States',\n",
      "                                      'short_name': 'US',\n",
      "                                      'types': ['country', 'political']}],\n",
      "              'formatted_address': \"Island of Hawai'i, Hawaii, USA\",\n",
      "              'geometry': {'bounds': {'northeast': {'lat': 20.2684821,\n",
      "                                                    'lng': -154.8065999},\n",
      "                                      'southwest': {'lat': 18.9106685,\n",
      "                                                    'lng': -156.06176}},\n",
      "                           'location': {'lat': 19.5429151, 'lng': -155.6658568},\n",
      "                           'location_type': 'APPROXIMATE',\n",
      "                           'viewport': {'northeast': {'lat': 20.2684821,\n",
      "                                                      'lng': -154.8065999},\n",
      "                                        'southwest': {'lat': 18.9106685,\n",
      "                                                      'lng': -156.06176}}},\n",
      "              'place_id': 'ChIJWTr3xcHnU3kRNIHX-ZKkVRQ',\n",
      "              'types': ['establishment', 'natural_feature']},\n",
      "             {'address_components': [{'long_name': 'Hawaii County',\n",
      "                                      'short_name': 'Hawaii County',\n",
      "                                      'types': ['administrative_area_level_2',\n",
      "                                                'political']},\n",
      "                                     {'long_name': 'Hawaii',\n",
      "                                      'short_name': 'HI',\n",
      "                                      'types': ['administrative_area_level_1',\n",
      "                                                'political']},\n",
      "                                     {'long_name': 'United States',\n",
      "                                      'short_name': 'US',\n",
      "                                      'types': ['country', 'political']}],\n",
      "              'formatted_address': 'Hawaii County, HI, USA',\n",
      "              'geometry': {'bounds': {'northeast': {'lat': 20.3214529,\n",
      "                                                    'lng': -154.7557919},\n",
      "                                      'southwest': {'lat': 18.86546,\n",
      "                                                    'lng': -156.1202379}},\n",
      "                           'location': {'lat': 19.5429151, 'lng': -155.6658568},\n",
      "                           'location_type': 'APPROXIMATE',\n",
      "                           'viewport': {'northeast': {'lat': 20.3214529,\n",
      "                                                      'lng': -154.7557919},\n",
      "                                        'southwest': {'lat': 18.86546,\n",
      "                                                      'lng': -156.1202379}}},\n",
      "              'place_id': 'ChIJV6HcMi_CU3kRyTEx69fyK7A',\n",
      "              'types': ['administrative_area_level_2', 'political']},\n",
      "             {'address_components': [{'long_name': 'Hawaii',\n",
      "                                      'short_name': 'HI',\n",
      "                                      'types': ['administrative_area_level_1',\n",
      "                                                'political']},\n",
      "                                     {'long_name': 'United States',\n",
      "                                      'short_name': 'US',\n",
      "                                      'types': ['country', 'political']}],\n",
      "              'formatted_address': 'Hawaii, USA',\n",
      "              'geometry': {'bounds': {'northeast': {'lat': 28.517269,\n",
      "                                                    'lng': -154.7557919},\n",
      "                                      'southwest': {'lat': 18.86546,\n",
      "                                                    'lng': -178.4435931}},\n",
      "                           'location': {'lat': 19.8967662, 'lng': -155.5827818},\n",
      "                           'location_type': 'APPROXIMATE',\n",
      "                           'viewport': {'northeast': {'lat': 28.517269,\n",
      "                                                      'lng': -154.7557919},\n",
      "                                        'southwest': {'lat': 18.86546,\n",
      "                                                      'lng': -178.4435931}}},\n",
      "              'place_id': 'ChIJBeB5Twbb_3sRKIbMdNKCd0s',\n",
      "              'types': ['administrative_area_level_1', 'political']},\n",
      "             {'address_components': [{'long_name': 'United States',\n",
      "                                      'short_name': 'US',\n",
      "                                      'types': ['country', 'political']}],\n",
      "              'formatted_address': 'United States',\n",
      "              'geometry': {'bounds': {'northeast': {'lat': 71.5388001,\n",
      "                                                    'lng': -66.885417},\n",
      "                                      'southwest': {'lat': 18.7763,\n",
      "                                                    'lng': 170.5957}},\n",
      "                           'location': {'lat': 37.09024, 'lng': -95.712891},\n",
      "                           'location_type': 'APPROXIMATE',\n",
      "                           'viewport': {'northeast': {'lat': 71.5388001,\n",
      "                                                      'lng': -66.885417},\n",
      "                                        'southwest': {'lat': 18.7763,\n",
      "                                                      'lng': 170.5957}}},\n",
      "              'place_id': 'ChIJCzYy5IS16lQRQrfeQ5K5Oxw',\n",
      "              'types': ['country', 'political']}],\n",
      " 'status': 'OK'}\n"
     ]
    }
   ],
   "source": [
    "### reverse geodata api call to get location based on lat/lon\n",
    "\n",
    "lat = fire_list_no_header[0][4]\n",
    "lon = fire_list_no_header[0][5]\n",
    "target_url = f'https://maps.googleapis.com/maps/api/geocode/json?latlng={lat},{lon}&key={api_key}'\n",
    "geo_data = requests.get(target_url).json()\n",
    "pprint(geo_data)\n",
    "formatted_address = (geo_data[\"results\"][1][\"formatted_address\"])\n",
    "# print(lat)"
   ]
  },
  {
   "cell_type": "code",
   "execution_count": 16,
   "metadata": {},
   "outputs": [
    {
     "name": "stdout",
     "output_type": "stream",
     "text": [
      "Island of Hawai'i, Hawaii, USA\n"
     ]
    }
   ],
   "source": [
    "print(formatted_address)"
   ]
  },
  {
   "cell_type": "code",
   "execution_count": 17,
   "metadata": {},
   "outputs": [
    {
     "name": "stdout",
     "output_type": "stream",
     "text": [
      "Island of Hawai'i, Hawaii, USA\n",
      "670 Berry Ln, Wisner, LA 71378, USA\n",
      "Segno, TX 77351, USA\n",
      "Liberty, MS 39645, USA\n",
      "4839 Mary Wall Bridge Rd, Liberty, MS 39645, USA\n",
      "8118-7968 Co Rd 28, Mountain View, AR 72560, USA\n",
      "Monroe Township, AR, USA\n",
      "27934-28420 Weeks Rd, Waldron, AR 72958, USA\n",
      "Western Grove, AR 72685, USA\n",
      "Arkansas Township, AR, USA\n",
      "De Bastrop Township, AR, USA\n",
      "De Bastrop Township, AR, USA\n",
      "6600-8004 Cornerstone Rd, Altheimer, AR 72004, USA\n",
      "29666 AR-75, Marked Tree, AR 72365, USA\n",
      "4455-4553 Island 40 Rd, Marion, AR 72364, USA\n",
      "3118-3134 Wilson Rd, Wabbaseka, AR 72175, USA\n",
      "3829 Bill Mac Rd, Carlisle, AR 72024, USA\n",
      "841 G Rd, Larned, KS 67550, USA\n",
      "Truchas, NM 87578, USA\n",
      "16139-17499 E Trimmer Springs Rd, Sanger, CA 93657, USA\n",
      "Island of Hawai'i, Hawaii, USA\n",
      "Island of Hawai'i, Hawaii, USA\n",
      "8061-8001 FM457, Bay City, TX 77414, USA\n",
      "Matagorda County, TX, USA\n",
      "Matagorda County, TX, USA\n",
      "Wiergate, TX 75977, USA\n",
      "1419 Co Rd 212, Falfurrias, TX 78355, USA\n",
      "1900 AR-277, Watson, AR 71674, USA\n",
      "San Angelo, TX 76904, USA\n",
      "San Angelo, TX 76904, USA\n",
      "San Angelo, TX 76904, USA\n",
      "23800-29096 Campbell Hollow Rd, Waldron, AR 72958, USA\n",
      "1640 County Rd 124, Kenedy, TX 78119, USA\n",
      "Austwell, TX 77950, USA\n",
      "398-100 Co Rd 3811, Wills Point, TX 75169, USA\n",
      "Milford, KS, USA\n",
      "Milford, KS 66514, USA\n",
      "Milford, KS 66514, USA\n",
      "Lost Hills, CA 93249, USA\n",
      "12998-12500 S Madsen Ave, Kingsburg, CA 93631, USA\n",
      "2452-4124 Rogersburg Rd, Asotin, WA 99402, USA\n",
      "Nezperce, ID 83543, USA\n",
      "1800-1898 Riggers Rd, Nezperce, ID 83543, USA\n",
      "Lincoln County, MT, USA\n",
      "10219 Casey Ave, Delano, CA 93215, USA\n",
      "Island of Hawai'i, Hawaii, USA\n",
      "2975 Durphy Rd, Abbeville, LA 70510, USA\n",
      "Parish Governing Authority District 13, LA, USA\n",
      "Hawks Rd, Leesville, LA 71446, USA\n",
      "Trinity, TX 75862, USA\n"
     ]
    },
    {
     "ename": "KeyboardInterrupt",
     "evalue": "",
     "output_type": "error",
     "traceback": [
      "\u001b[1;31m---------------------------------------------------------------------------\u001b[0m",
      "\u001b[1;31mKeyboardInterrupt\u001b[0m                         Traceback (most recent call last)",
      "\u001b[1;32m<ipython-input-17-c99bad398bef>\u001b[0m in \u001b[0;36m<module>\u001b[1;34m\u001b[0m\n\u001b[0;32m      5\u001b[0m     \u001b[0mlon\u001b[0m \u001b[1;33m=\u001b[0m \u001b[0mi\u001b[0m\u001b[1;33m[\u001b[0m\u001b[1;36m5\u001b[0m\u001b[1;33m]\u001b[0m\u001b[1;33m\u001b[0m\u001b[1;33m\u001b[0m\u001b[0m\n\u001b[0;32m      6\u001b[0m     \u001b[0mtarget_url\u001b[0m \u001b[1;33m=\u001b[0m \u001b[1;34mf'https://maps.googleapis.com/maps/api/geocode/json?latlng={lat},{lon}&key={api_key}'\u001b[0m\u001b[1;33m\u001b[0m\u001b[1;33m\u001b[0m\u001b[0m\n\u001b[1;32m----> 7\u001b[1;33m     \u001b[0mgeo_data\u001b[0m \u001b[1;33m=\u001b[0m \u001b[0mrequests\u001b[0m\u001b[1;33m.\u001b[0m\u001b[0mget\u001b[0m\u001b[1;33m(\u001b[0m\u001b[0mtarget_url\u001b[0m\u001b[1;33m)\u001b[0m\u001b[1;33m.\u001b[0m\u001b[0mjson\u001b[0m\u001b[1;33m(\u001b[0m\u001b[1;33m)\u001b[0m\u001b[1;33m\u001b[0m\u001b[1;33m\u001b[0m\u001b[0m\n\u001b[0m\u001b[0;32m      8\u001b[0m     \u001b[0mformatted_address\u001b[0m \u001b[1;33m=\u001b[0m \u001b[1;33m(\u001b[0m\u001b[0mgeo_data\u001b[0m\u001b[1;33m[\u001b[0m\u001b[1;34m\"results\"\u001b[0m\u001b[1;33m]\u001b[0m\u001b[1;33m[\u001b[0m\u001b[1;36m1\u001b[0m\u001b[1;33m]\u001b[0m\u001b[1;33m[\u001b[0m\u001b[1;34m\"formatted_address\"\u001b[0m\u001b[1;33m]\u001b[0m\u001b[1;33m)\u001b[0m\u001b[1;33m\u001b[0m\u001b[1;33m\u001b[0m\u001b[0m\n\u001b[0;32m      9\u001b[0m     \u001b[0mprint\u001b[0m\u001b[1;33m(\u001b[0m\u001b[0mformatted_address\u001b[0m\u001b[1;33m)\u001b[0m\u001b[1;33m\u001b[0m\u001b[1;33m\u001b[0m\u001b[0m\n",
      "\u001b[1;32m~\\anaconda3\\envs\\PythonData\\lib\\site-packages\\requests\\api.py\u001b[0m in \u001b[0;36mget\u001b[1;34m(url, params, **kwargs)\u001b[0m\n\u001b[0;32m     74\u001b[0m \u001b[1;33m\u001b[0m\u001b[0m\n\u001b[0;32m     75\u001b[0m     \u001b[0mkwargs\u001b[0m\u001b[1;33m.\u001b[0m\u001b[0msetdefault\u001b[0m\u001b[1;33m(\u001b[0m\u001b[1;34m'allow_redirects'\u001b[0m\u001b[1;33m,\u001b[0m \u001b[1;32mTrue\u001b[0m\u001b[1;33m)\u001b[0m\u001b[1;33m\u001b[0m\u001b[1;33m\u001b[0m\u001b[0m\n\u001b[1;32m---> 76\u001b[1;33m     \u001b[1;32mreturn\u001b[0m \u001b[0mrequest\u001b[0m\u001b[1;33m(\u001b[0m\u001b[1;34m'get'\u001b[0m\u001b[1;33m,\u001b[0m \u001b[0murl\u001b[0m\u001b[1;33m,\u001b[0m \u001b[0mparams\u001b[0m\u001b[1;33m=\u001b[0m\u001b[0mparams\u001b[0m\u001b[1;33m,\u001b[0m \u001b[1;33m**\u001b[0m\u001b[0mkwargs\u001b[0m\u001b[1;33m)\u001b[0m\u001b[1;33m\u001b[0m\u001b[1;33m\u001b[0m\u001b[0m\n\u001b[0m\u001b[0;32m     77\u001b[0m \u001b[1;33m\u001b[0m\u001b[0m\n\u001b[0;32m     78\u001b[0m \u001b[1;33m\u001b[0m\u001b[0m\n",
      "\u001b[1;32m~\\anaconda3\\envs\\PythonData\\lib\\site-packages\\requests\\api.py\u001b[0m in \u001b[0;36mrequest\u001b[1;34m(method, url, **kwargs)\u001b[0m\n\u001b[0;32m     59\u001b[0m     \u001b[1;31m# cases, and look like a memory leak in others.\u001b[0m\u001b[1;33m\u001b[0m\u001b[1;33m\u001b[0m\u001b[1;33m\u001b[0m\u001b[0m\n\u001b[0;32m     60\u001b[0m     \u001b[1;32mwith\u001b[0m \u001b[0msessions\u001b[0m\u001b[1;33m.\u001b[0m\u001b[0mSession\u001b[0m\u001b[1;33m(\u001b[0m\u001b[1;33m)\u001b[0m \u001b[1;32mas\u001b[0m \u001b[0msession\u001b[0m\u001b[1;33m:\u001b[0m\u001b[1;33m\u001b[0m\u001b[1;33m\u001b[0m\u001b[0m\n\u001b[1;32m---> 61\u001b[1;33m         \u001b[1;32mreturn\u001b[0m \u001b[0msession\u001b[0m\u001b[1;33m.\u001b[0m\u001b[0mrequest\u001b[0m\u001b[1;33m(\u001b[0m\u001b[0mmethod\u001b[0m\u001b[1;33m=\u001b[0m\u001b[0mmethod\u001b[0m\u001b[1;33m,\u001b[0m \u001b[0murl\u001b[0m\u001b[1;33m=\u001b[0m\u001b[0murl\u001b[0m\u001b[1;33m,\u001b[0m \u001b[1;33m**\u001b[0m\u001b[0mkwargs\u001b[0m\u001b[1;33m)\u001b[0m\u001b[1;33m\u001b[0m\u001b[1;33m\u001b[0m\u001b[0m\n\u001b[0m\u001b[0;32m     62\u001b[0m \u001b[1;33m\u001b[0m\u001b[0m\n\u001b[0;32m     63\u001b[0m \u001b[1;33m\u001b[0m\u001b[0m\n",
      "\u001b[1;32m~\\anaconda3\\envs\\PythonData\\lib\\site-packages\\requests\\sessions.py\u001b[0m in \u001b[0;36mrequest\u001b[1;34m(self, method, url, params, data, headers, cookies, files, auth, timeout, allow_redirects, proxies, hooks, stream, verify, cert, json)\u001b[0m\n\u001b[0;32m    528\u001b[0m         }\n\u001b[0;32m    529\u001b[0m         \u001b[0msend_kwargs\u001b[0m\u001b[1;33m.\u001b[0m\u001b[0mupdate\u001b[0m\u001b[1;33m(\u001b[0m\u001b[0msettings\u001b[0m\u001b[1;33m)\u001b[0m\u001b[1;33m\u001b[0m\u001b[1;33m\u001b[0m\u001b[0m\n\u001b[1;32m--> 530\u001b[1;33m         \u001b[0mresp\u001b[0m \u001b[1;33m=\u001b[0m \u001b[0mself\u001b[0m\u001b[1;33m.\u001b[0m\u001b[0msend\u001b[0m\u001b[1;33m(\u001b[0m\u001b[0mprep\u001b[0m\u001b[1;33m,\u001b[0m \u001b[1;33m**\u001b[0m\u001b[0msend_kwargs\u001b[0m\u001b[1;33m)\u001b[0m\u001b[1;33m\u001b[0m\u001b[1;33m\u001b[0m\u001b[0m\n\u001b[0m\u001b[0;32m    531\u001b[0m \u001b[1;33m\u001b[0m\u001b[0m\n\u001b[0;32m    532\u001b[0m         \u001b[1;32mreturn\u001b[0m \u001b[0mresp\u001b[0m\u001b[1;33m\u001b[0m\u001b[1;33m\u001b[0m\u001b[0m\n",
      "\u001b[1;32m~\\anaconda3\\envs\\PythonData\\lib\\site-packages\\requests\\sessions.py\u001b[0m in \u001b[0;36msend\u001b[1;34m(self, request, **kwargs)\u001b[0m\n\u001b[0;32m    641\u001b[0m \u001b[1;33m\u001b[0m\u001b[0m\n\u001b[0;32m    642\u001b[0m         \u001b[1;31m# Send the request\u001b[0m\u001b[1;33m\u001b[0m\u001b[1;33m\u001b[0m\u001b[1;33m\u001b[0m\u001b[0m\n\u001b[1;32m--> 643\u001b[1;33m         \u001b[0mr\u001b[0m \u001b[1;33m=\u001b[0m \u001b[0madapter\u001b[0m\u001b[1;33m.\u001b[0m\u001b[0msend\u001b[0m\u001b[1;33m(\u001b[0m\u001b[0mrequest\u001b[0m\u001b[1;33m,\u001b[0m \u001b[1;33m**\u001b[0m\u001b[0mkwargs\u001b[0m\u001b[1;33m)\u001b[0m\u001b[1;33m\u001b[0m\u001b[1;33m\u001b[0m\u001b[0m\n\u001b[0m\u001b[0;32m    644\u001b[0m \u001b[1;33m\u001b[0m\u001b[0m\n\u001b[0;32m    645\u001b[0m         \u001b[1;31m# Total elapsed time of the request (approximately)\u001b[0m\u001b[1;33m\u001b[0m\u001b[1;33m\u001b[0m\u001b[1;33m\u001b[0m\u001b[0m\n",
      "\u001b[1;32m~\\anaconda3\\envs\\PythonData\\lib\\site-packages\\requests\\adapters.py\u001b[0m in \u001b[0;36msend\u001b[1;34m(self, request, stream, timeout, verify, cert, proxies)\u001b[0m\n\u001b[0;32m    447\u001b[0m                     \u001b[0mdecode_content\u001b[0m\u001b[1;33m=\u001b[0m\u001b[1;32mFalse\u001b[0m\u001b[1;33m,\u001b[0m\u001b[1;33m\u001b[0m\u001b[1;33m\u001b[0m\u001b[0m\n\u001b[0;32m    448\u001b[0m                     \u001b[0mretries\u001b[0m\u001b[1;33m=\u001b[0m\u001b[0mself\u001b[0m\u001b[1;33m.\u001b[0m\u001b[0mmax_retries\u001b[0m\u001b[1;33m,\u001b[0m\u001b[1;33m\u001b[0m\u001b[1;33m\u001b[0m\u001b[0m\n\u001b[1;32m--> 449\u001b[1;33m                     \u001b[0mtimeout\u001b[0m\u001b[1;33m=\u001b[0m\u001b[0mtimeout\u001b[0m\u001b[1;33m\u001b[0m\u001b[1;33m\u001b[0m\u001b[0m\n\u001b[0m\u001b[0;32m    450\u001b[0m                 )\n\u001b[0;32m    451\u001b[0m \u001b[1;33m\u001b[0m\u001b[0m\n",
      "\u001b[1;32m~\\anaconda3\\envs\\PythonData\\lib\\site-packages\\urllib3\\connectionpool.py\u001b[0m in \u001b[0;36murlopen\u001b[1;34m(self, method, url, body, headers, retries, redirect, assert_same_host, timeout, pool_timeout, release_conn, chunked, body_pos, **response_kw)\u001b[0m\n\u001b[0;32m    670\u001b[0m                 \u001b[0mbody\u001b[0m\u001b[1;33m=\u001b[0m\u001b[0mbody\u001b[0m\u001b[1;33m,\u001b[0m\u001b[1;33m\u001b[0m\u001b[1;33m\u001b[0m\u001b[0m\n\u001b[0;32m    671\u001b[0m                 \u001b[0mheaders\u001b[0m\u001b[1;33m=\u001b[0m\u001b[0mheaders\u001b[0m\u001b[1;33m,\u001b[0m\u001b[1;33m\u001b[0m\u001b[1;33m\u001b[0m\u001b[0m\n\u001b[1;32m--> 672\u001b[1;33m                 \u001b[0mchunked\u001b[0m\u001b[1;33m=\u001b[0m\u001b[0mchunked\u001b[0m\u001b[1;33m,\u001b[0m\u001b[1;33m\u001b[0m\u001b[1;33m\u001b[0m\u001b[0m\n\u001b[0m\u001b[0;32m    673\u001b[0m             )\n\u001b[0;32m    674\u001b[0m \u001b[1;33m\u001b[0m\u001b[0m\n",
      "\u001b[1;32m~\\anaconda3\\envs\\PythonData\\lib\\site-packages\\urllib3\\connectionpool.py\u001b[0m in \u001b[0;36m_make_request\u001b[1;34m(self, conn, method, url, timeout, chunked, **httplib_request_kw)\u001b[0m\n\u001b[0;32m    419\u001b[0m                     \u001b[1;31m# Python 3 (including for exceptions like SystemExit).\u001b[0m\u001b[1;33m\u001b[0m\u001b[1;33m\u001b[0m\u001b[1;33m\u001b[0m\u001b[0m\n\u001b[0;32m    420\u001b[0m                     \u001b[1;31m# Otherwise it looks like a bug in the code.\u001b[0m\u001b[1;33m\u001b[0m\u001b[1;33m\u001b[0m\u001b[1;33m\u001b[0m\u001b[0m\n\u001b[1;32m--> 421\u001b[1;33m                     \u001b[0msix\u001b[0m\u001b[1;33m.\u001b[0m\u001b[0mraise_from\u001b[0m\u001b[1;33m(\u001b[0m\u001b[0me\u001b[0m\u001b[1;33m,\u001b[0m \u001b[1;32mNone\u001b[0m\u001b[1;33m)\u001b[0m\u001b[1;33m\u001b[0m\u001b[1;33m\u001b[0m\u001b[0m\n\u001b[0m\u001b[0;32m    422\u001b[0m         \u001b[1;32mexcept\u001b[0m \u001b[1;33m(\u001b[0m\u001b[0mSocketTimeout\u001b[0m\u001b[1;33m,\u001b[0m \u001b[0mBaseSSLError\u001b[0m\u001b[1;33m,\u001b[0m \u001b[0mSocketError\u001b[0m\u001b[1;33m)\u001b[0m \u001b[1;32mas\u001b[0m \u001b[0me\u001b[0m\u001b[1;33m:\u001b[0m\u001b[1;33m\u001b[0m\u001b[1;33m\u001b[0m\u001b[0m\n\u001b[0;32m    423\u001b[0m             \u001b[0mself\u001b[0m\u001b[1;33m.\u001b[0m\u001b[0m_raise_timeout\u001b[0m\u001b[1;33m(\u001b[0m\u001b[0merr\u001b[0m\u001b[1;33m=\u001b[0m\u001b[0me\u001b[0m\u001b[1;33m,\u001b[0m \u001b[0murl\u001b[0m\u001b[1;33m=\u001b[0m\u001b[0murl\u001b[0m\u001b[1;33m,\u001b[0m \u001b[0mtimeout_value\u001b[0m\u001b[1;33m=\u001b[0m\u001b[0mread_timeout\u001b[0m\u001b[1;33m)\u001b[0m\u001b[1;33m\u001b[0m\u001b[1;33m\u001b[0m\u001b[0m\n",
      "\u001b[1;32m~\\anaconda3\\envs\\PythonData\\lib\\site-packages\\urllib3\\packages\\six.py\u001b[0m in \u001b[0;36mraise_from\u001b[1;34m(value, from_value)\u001b[0m\n",
      "\u001b[1;32m~\\anaconda3\\envs\\PythonData\\lib\\site-packages\\urllib3\\connectionpool.py\u001b[0m in \u001b[0;36m_make_request\u001b[1;34m(self, conn, method, url, timeout, chunked, **httplib_request_kw)\u001b[0m\n\u001b[0;32m    414\u001b[0m                 \u001b[1;31m# Python 3\u001b[0m\u001b[1;33m\u001b[0m\u001b[1;33m\u001b[0m\u001b[1;33m\u001b[0m\u001b[0m\n\u001b[0;32m    415\u001b[0m                 \u001b[1;32mtry\u001b[0m\u001b[1;33m:\u001b[0m\u001b[1;33m\u001b[0m\u001b[1;33m\u001b[0m\u001b[0m\n\u001b[1;32m--> 416\u001b[1;33m                     \u001b[0mhttplib_response\u001b[0m \u001b[1;33m=\u001b[0m \u001b[0mconn\u001b[0m\u001b[1;33m.\u001b[0m\u001b[0mgetresponse\u001b[0m\u001b[1;33m(\u001b[0m\u001b[1;33m)\u001b[0m\u001b[1;33m\u001b[0m\u001b[1;33m\u001b[0m\u001b[0m\n\u001b[0m\u001b[0;32m    417\u001b[0m                 \u001b[1;32mexcept\u001b[0m \u001b[0mBaseException\u001b[0m \u001b[1;32mas\u001b[0m \u001b[0me\u001b[0m\u001b[1;33m:\u001b[0m\u001b[1;33m\u001b[0m\u001b[1;33m\u001b[0m\u001b[0m\n\u001b[0;32m    418\u001b[0m                     \u001b[1;31m# Remove the TypeError from the exception chain in\u001b[0m\u001b[1;33m\u001b[0m\u001b[1;33m\u001b[0m\u001b[1;33m\u001b[0m\u001b[0m\n",
      "\u001b[1;32m~\\anaconda3\\envs\\PythonData\\lib\\http\\client.py\u001b[0m in \u001b[0;36mgetresponse\u001b[1;34m(self)\u001b[0m\n\u001b[0;32m   1352\u001b[0m         \u001b[1;32mtry\u001b[0m\u001b[1;33m:\u001b[0m\u001b[1;33m\u001b[0m\u001b[1;33m\u001b[0m\u001b[0m\n\u001b[0;32m   1353\u001b[0m             \u001b[1;32mtry\u001b[0m\u001b[1;33m:\u001b[0m\u001b[1;33m\u001b[0m\u001b[1;33m\u001b[0m\u001b[0m\n\u001b[1;32m-> 1354\u001b[1;33m                 \u001b[0mresponse\u001b[0m\u001b[1;33m.\u001b[0m\u001b[0mbegin\u001b[0m\u001b[1;33m(\u001b[0m\u001b[1;33m)\u001b[0m\u001b[1;33m\u001b[0m\u001b[1;33m\u001b[0m\u001b[0m\n\u001b[0m\u001b[0;32m   1355\u001b[0m             \u001b[1;32mexcept\u001b[0m \u001b[0mConnectionError\u001b[0m\u001b[1;33m:\u001b[0m\u001b[1;33m\u001b[0m\u001b[1;33m\u001b[0m\u001b[0m\n\u001b[0;32m   1356\u001b[0m                 \u001b[0mself\u001b[0m\u001b[1;33m.\u001b[0m\u001b[0mclose\u001b[0m\u001b[1;33m(\u001b[0m\u001b[1;33m)\u001b[0m\u001b[1;33m\u001b[0m\u001b[1;33m\u001b[0m\u001b[0m\n",
      "\u001b[1;32m~\\anaconda3\\envs\\PythonData\\lib\\http\\client.py\u001b[0m in \u001b[0;36mbegin\u001b[1;34m(self)\u001b[0m\n\u001b[0;32m    305\u001b[0m         \u001b[1;31m# read until we get a non-100 response\u001b[0m\u001b[1;33m\u001b[0m\u001b[1;33m\u001b[0m\u001b[1;33m\u001b[0m\u001b[0m\n\u001b[0;32m    306\u001b[0m         \u001b[1;32mwhile\u001b[0m \u001b[1;32mTrue\u001b[0m\u001b[1;33m:\u001b[0m\u001b[1;33m\u001b[0m\u001b[1;33m\u001b[0m\u001b[0m\n\u001b[1;32m--> 307\u001b[1;33m             \u001b[0mversion\u001b[0m\u001b[1;33m,\u001b[0m \u001b[0mstatus\u001b[0m\u001b[1;33m,\u001b[0m \u001b[0mreason\u001b[0m \u001b[1;33m=\u001b[0m \u001b[0mself\u001b[0m\u001b[1;33m.\u001b[0m\u001b[0m_read_status\u001b[0m\u001b[1;33m(\u001b[0m\u001b[1;33m)\u001b[0m\u001b[1;33m\u001b[0m\u001b[1;33m\u001b[0m\u001b[0m\n\u001b[0m\u001b[0;32m    308\u001b[0m             \u001b[1;32mif\u001b[0m \u001b[0mstatus\u001b[0m \u001b[1;33m!=\u001b[0m \u001b[0mCONTINUE\u001b[0m\u001b[1;33m:\u001b[0m\u001b[1;33m\u001b[0m\u001b[1;33m\u001b[0m\u001b[0m\n\u001b[0;32m    309\u001b[0m                 \u001b[1;32mbreak\u001b[0m\u001b[1;33m\u001b[0m\u001b[1;33m\u001b[0m\u001b[0m\n",
      "\u001b[1;32m~\\anaconda3\\envs\\PythonData\\lib\\http\\client.py\u001b[0m in \u001b[0;36m_read_status\u001b[1;34m(self)\u001b[0m\n\u001b[0;32m    266\u001b[0m \u001b[1;33m\u001b[0m\u001b[0m\n\u001b[0;32m    267\u001b[0m     \u001b[1;32mdef\u001b[0m \u001b[0m_read_status\u001b[0m\u001b[1;33m(\u001b[0m\u001b[0mself\u001b[0m\u001b[1;33m)\u001b[0m\u001b[1;33m:\u001b[0m\u001b[1;33m\u001b[0m\u001b[1;33m\u001b[0m\u001b[0m\n\u001b[1;32m--> 268\u001b[1;33m         \u001b[0mline\u001b[0m \u001b[1;33m=\u001b[0m \u001b[0mstr\u001b[0m\u001b[1;33m(\u001b[0m\u001b[0mself\u001b[0m\u001b[1;33m.\u001b[0m\u001b[0mfp\u001b[0m\u001b[1;33m.\u001b[0m\u001b[0mreadline\u001b[0m\u001b[1;33m(\u001b[0m\u001b[0m_MAXLINE\u001b[0m \u001b[1;33m+\u001b[0m \u001b[1;36m1\u001b[0m\u001b[1;33m)\u001b[0m\u001b[1;33m,\u001b[0m \u001b[1;34m\"iso-8859-1\"\u001b[0m\u001b[1;33m)\u001b[0m\u001b[1;33m\u001b[0m\u001b[1;33m\u001b[0m\u001b[0m\n\u001b[0m\u001b[0;32m    269\u001b[0m         \u001b[1;32mif\u001b[0m \u001b[0mlen\u001b[0m\u001b[1;33m(\u001b[0m\u001b[0mline\u001b[0m\u001b[1;33m)\u001b[0m \u001b[1;33m>\u001b[0m \u001b[0m_MAXLINE\u001b[0m\u001b[1;33m:\u001b[0m\u001b[1;33m\u001b[0m\u001b[1;33m\u001b[0m\u001b[0m\n\u001b[0;32m    270\u001b[0m             \u001b[1;32mraise\u001b[0m \u001b[0mLineTooLong\u001b[0m\u001b[1;33m(\u001b[0m\u001b[1;34m\"status line\"\u001b[0m\u001b[1;33m)\u001b[0m\u001b[1;33m\u001b[0m\u001b[1;33m\u001b[0m\u001b[0m\n",
      "\u001b[1;32m~\\anaconda3\\envs\\PythonData\\lib\\socket.py\u001b[0m in \u001b[0;36mreadinto\u001b[1;34m(self, b)\u001b[0m\n\u001b[0;32m    584\u001b[0m         \u001b[1;32mwhile\u001b[0m \u001b[1;32mTrue\u001b[0m\u001b[1;33m:\u001b[0m\u001b[1;33m\u001b[0m\u001b[1;33m\u001b[0m\u001b[0m\n\u001b[0;32m    585\u001b[0m             \u001b[1;32mtry\u001b[0m\u001b[1;33m:\u001b[0m\u001b[1;33m\u001b[0m\u001b[1;33m\u001b[0m\u001b[0m\n\u001b[1;32m--> 586\u001b[1;33m                 \u001b[1;32mreturn\u001b[0m \u001b[0mself\u001b[0m\u001b[1;33m.\u001b[0m\u001b[0m_sock\u001b[0m\u001b[1;33m.\u001b[0m\u001b[0mrecv_into\u001b[0m\u001b[1;33m(\u001b[0m\u001b[0mb\u001b[0m\u001b[1;33m)\u001b[0m\u001b[1;33m\u001b[0m\u001b[1;33m\u001b[0m\u001b[0m\n\u001b[0m\u001b[0;32m    587\u001b[0m             \u001b[1;32mexcept\u001b[0m \u001b[0mtimeout\u001b[0m\u001b[1;33m:\u001b[0m\u001b[1;33m\u001b[0m\u001b[1;33m\u001b[0m\u001b[0m\n\u001b[0;32m    588\u001b[0m                 \u001b[0mself\u001b[0m\u001b[1;33m.\u001b[0m\u001b[0m_timeout_occurred\u001b[0m \u001b[1;33m=\u001b[0m \u001b[1;32mTrue\u001b[0m\u001b[1;33m\u001b[0m\u001b[1;33m\u001b[0m\u001b[0m\n",
      "\u001b[1;32m~\\anaconda3\\envs\\PythonData\\lib\\site-packages\\urllib3\\contrib\\pyopenssl.py\u001b[0m in \u001b[0;36mrecv_into\u001b[1;34m(self, *args, **kwargs)\u001b[0m\n\u001b[0;32m    311\u001b[0m     \u001b[1;32mdef\u001b[0m \u001b[0mrecv_into\u001b[0m\u001b[1;33m(\u001b[0m\u001b[0mself\u001b[0m\u001b[1;33m,\u001b[0m \u001b[1;33m*\u001b[0m\u001b[0margs\u001b[0m\u001b[1;33m,\u001b[0m \u001b[1;33m**\u001b[0m\u001b[0mkwargs\u001b[0m\u001b[1;33m)\u001b[0m\u001b[1;33m:\u001b[0m\u001b[1;33m\u001b[0m\u001b[1;33m\u001b[0m\u001b[0m\n\u001b[0;32m    312\u001b[0m         \u001b[1;32mtry\u001b[0m\u001b[1;33m:\u001b[0m\u001b[1;33m\u001b[0m\u001b[1;33m\u001b[0m\u001b[0m\n\u001b[1;32m--> 313\u001b[1;33m             \u001b[1;32mreturn\u001b[0m \u001b[0mself\u001b[0m\u001b[1;33m.\u001b[0m\u001b[0mconnection\u001b[0m\u001b[1;33m.\u001b[0m\u001b[0mrecv_into\u001b[0m\u001b[1;33m(\u001b[0m\u001b[1;33m*\u001b[0m\u001b[0margs\u001b[0m\u001b[1;33m,\u001b[0m \u001b[1;33m**\u001b[0m\u001b[0mkwargs\u001b[0m\u001b[1;33m)\u001b[0m\u001b[1;33m\u001b[0m\u001b[1;33m\u001b[0m\u001b[0m\n\u001b[0m\u001b[0;32m    314\u001b[0m         \u001b[1;32mexcept\u001b[0m \u001b[0mOpenSSL\u001b[0m\u001b[1;33m.\u001b[0m\u001b[0mSSL\u001b[0m\u001b[1;33m.\u001b[0m\u001b[0mSysCallError\u001b[0m \u001b[1;32mas\u001b[0m \u001b[0me\u001b[0m\u001b[1;33m:\u001b[0m\u001b[1;33m\u001b[0m\u001b[1;33m\u001b[0m\u001b[0m\n\u001b[0;32m    315\u001b[0m             \u001b[1;32mif\u001b[0m \u001b[0mself\u001b[0m\u001b[1;33m.\u001b[0m\u001b[0msuppress_ragged_eofs\u001b[0m \u001b[1;32mand\u001b[0m \u001b[0me\u001b[0m\u001b[1;33m.\u001b[0m\u001b[0margs\u001b[0m \u001b[1;33m==\u001b[0m \u001b[1;33m(\u001b[0m\u001b[1;33m-\u001b[0m\u001b[1;36m1\u001b[0m\u001b[1;33m,\u001b[0m \u001b[1;34m\"Unexpected EOF\"\u001b[0m\u001b[1;33m)\u001b[0m\u001b[1;33m:\u001b[0m\u001b[1;33m\u001b[0m\u001b[1;33m\u001b[0m\u001b[0m\n",
      "\u001b[1;32m~\\anaconda3\\envs\\PythonData\\lib\\site-packages\\OpenSSL\\SSL.py\u001b[0m in \u001b[0;36mrecv_into\u001b[1;34m(self, buffer, nbytes, flags)\u001b[0m\n\u001b[0;32m   1837\u001b[0m             \u001b[0mresult\u001b[0m \u001b[1;33m=\u001b[0m \u001b[0m_lib\u001b[0m\u001b[1;33m.\u001b[0m\u001b[0mSSL_peek\u001b[0m\u001b[1;33m(\u001b[0m\u001b[0mself\u001b[0m\u001b[1;33m.\u001b[0m\u001b[0m_ssl\u001b[0m\u001b[1;33m,\u001b[0m \u001b[0mbuf\u001b[0m\u001b[1;33m,\u001b[0m \u001b[0mnbytes\u001b[0m\u001b[1;33m)\u001b[0m\u001b[1;33m\u001b[0m\u001b[1;33m\u001b[0m\u001b[0m\n\u001b[0;32m   1838\u001b[0m         \u001b[1;32melse\u001b[0m\u001b[1;33m:\u001b[0m\u001b[1;33m\u001b[0m\u001b[1;33m\u001b[0m\u001b[0m\n\u001b[1;32m-> 1839\u001b[1;33m             \u001b[0mresult\u001b[0m \u001b[1;33m=\u001b[0m \u001b[0m_lib\u001b[0m\u001b[1;33m.\u001b[0m\u001b[0mSSL_read\u001b[0m\u001b[1;33m(\u001b[0m\u001b[0mself\u001b[0m\u001b[1;33m.\u001b[0m\u001b[0m_ssl\u001b[0m\u001b[1;33m,\u001b[0m \u001b[0mbuf\u001b[0m\u001b[1;33m,\u001b[0m \u001b[0mnbytes\u001b[0m\u001b[1;33m)\u001b[0m\u001b[1;33m\u001b[0m\u001b[1;33m\u001b[0m\u001b[0m\n\u001b[0m\u001b[0;32m   1840\u001b[0m         \u001b[0mself\u001b[0m\u001b[1;33m.\u001b[0m\u001b[0m_raise_ssl_error\u001b[0m\u001b[1;33m(\u001b[0m\u001b[0mself\u001b[0m\u001b[1;33m.\u001b[0m\u001b[0m_ssl\u001b[0m\u001b[1;33m,\u001b[0m \u001b[0mresult\u001b[0m\u001b[1;33m)\u001b[0m\u001b[1;33m\u001b[0m\u001b[1;33m\u001b[0m\u001b[0m\n\u001b[0;32m   1841\u001b[0m \u001b[1;33m\u001b[0m\u001b[0m\n",
      "\u001b[1;31mKeyboardInterrupt\u001b[0m: "
     ]
    }
   ],
   "source": [
    "fire_loc = []\n",
    "\n",
    "for i in fire_list_no_header:\n",
    "    lat = i[4]\n",
    "    lon = i[5]\n",
    "    target_url = f'https://maps.googleapis.com/maps/api/geocode/json?latlng={lat},{lon}&key={api_key}'\n",
    "    geo_data = requests.get(target_url).json()\n",
    "    formatted_address = (geo_data[\"results\"][1][\"formatted_address\"])\n",
    "    print(formatted_address)\n",
    "    fire_loc.append(formatted_address)\n",
    "#     pprint(geo_data)\n",
    "#     frp = i[6]\n",
    "#     print(f'[{lat},{lon}]')"
   ]
  },
  {
   "cell_type": "code",
   "execution_count": null,
   "metadata": {},
   "outputs": [],
   "source": [
    "print(fire_loc[0:5])"
   ]
  }
 ],
 "metadata": {
  "kernelspec": {
   "display_name": "Python 3",
   "language": "python",
   "name": "python3"
  },
  "language_info": {
   "codemirror_mode": {
    "name": "ipython",
    "version": 3
   },
   "file_extension": ".py",
   "mimetype": "text/x-python",
   "name": "python",
   "nbconvert_exporter": "python",
   "pygments_lexer": "ipython3",
   "version": "3.6.10"
  }
 },
 "nbformat": 4,
 "nbformat_minor": 4
}
